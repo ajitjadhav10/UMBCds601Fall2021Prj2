{
 "cells": [
  {
   "cell_type": "markdown",
   "id": "68a14751",
   "metadata": {},
   "source": [
    "### Project -2 : Exploratory Data Analysis using Jupyter and Python3 for data set with Hypothesis\n",
    "\n",
    "Data Source : https://data.cityofnewyork.us/api/views/7xq6-k6zy/rows.csv?accessType=DOWNLOAD\n",
    "\n"
   ]
  },
  {
   "cell_type": "code",
   "execution_count": 1,
   "id": "892ca16e",
   "metadata": {},
   "outputs": [],
   "source": [
    "# Importing libraries\n",
    "\n",
    "import pandas as pd\n",
    "import seaborn as sns\n",
    "import matplotlib.pyplot as plt"
   ]
  },
  {
   "cell_type": "code",
   "execution_count": 2,
   "id": "296f2672",
   "metadata": {},
   "outputs": [],
   "source": [
    "# Loading Data from data source location with url path\n",
    "\n",
    "\n",
    "data_url = \"https://data.cityofnewyork.us/api/views/7xq6-k6zy/rows.csv?accessType=DOWNLOAD\"\n",
    "data = pd.read_csv(data_url)"
   ]
  },
  {
   "cell_type": "markdown",
   "id": "023231fc",
   "metadata": {},
   "source": [
    "### Understanding the Data"
   ]
  },
  {
   "cell_type": "code",
   "execution_count": 3,
   "id": "9c2d8f9a",
   "metadata": {},
   "outputs": [
    {
     "data": {
      "text/html": [
       "<div>\n",
       "<style scoped>\n",
       "    .dataframe tbody tr th:only-of-type {\n",
       "        vertical-align: middle;\n",
       "    }\n",
       "\n",
       "    .dataframe tbody tr th {\n",
       "        vertical-align: top;\n",
       "    }\n",
       "\n",
       "    .dataframe thead th {\n",
       "        text-align: right;\n",
       "    }\n",
       "</style>\n",
       "<table border=\"1\" class=\"dataframe\">\n",
       "  <thead>\n",
       "    <tr style=\"text-align: right;\">\n",
       "      <th></th>\n",
       "      <th>Appeal Type</th>\n",
       "      <th>Appeal Subtype</th>\n",
       "      <th>Agency</th>\n",
       "      <th>Status</th>\n",
       "      <th>Date Filed</th>\n",
       "      <th>Date Closed</th>\n",
       "      <th>Exam No.</th>\n",
       "      <th>Title</th>\n",
       "      <th>Expiration</th>\n",
       "      <th>Extension</th>\n",
       "      <th>Acronym</th>\n",
       "    </tr>\n",
       "  </thead>\n",
       "  <tbody>\n",
       "    <tr>\n",
       "      <th>0</th>\n",
       "      <td>Waiting for DQ</td>\n",
       "      <td>NaN</td>\n",
       "      <td>Police Department - NYPD</td>\n",
       "      <td>Open</td>\n",
       "      <td>12/29/2017</td>\n",
       "      <td>NaN</td>\n",
       "      <td>NaN</td>\n",
       "      <td>NaN</td>\n",
       "      <td>NaN</td>\n",
       "      <td>NaN</td>\n",
       "      <td>NYPD</td>\n",
       "    </tr>\n",
       "    <tr>\n",
       "      <th>1</th>\n",
       "      <td>Section 50</td>\n",
       "      <td>Character</td>\n",
       "      <td>Police Department - NYPD</td>\n",
       "      <td>Open</td>\n",
       "      <td>12/29/2017</td>\n",
       "      <td>NaN</td>\n",
       "      <td>4316.0</td>\n",
       "      <td>Police Officer</td>\n",
       "      <td>08/24/2020</td>\n",
       "      <td>NaN</td>\n",
       "      <td>NYPD</td>\n",
       "    </tr>\n",
       "    <tr>\n",
       "      <th>2</th>\n",
       "      <td>Section 50</td>\n",
       "      <td>Score</td>\n",
       "      <td>Department of Citywide Administrative Services...</td>\n",
       "      <td>Open</td>\n",
       "      <td>12/28/2017</td>\n",
       "      <td>NaN</td>\n",
       "      <td>6508.0</td>\n",
       "      <td>Child Protective Specialist Supervisor</td>\n",
       "      <td>07/26/2021</td>\n",
       "      <td>NaN</td>\n",
       "      <td>DCAS</td>\n",
       "    </tr>\n",
       "    <tr>\n",
       "      <th>3</th>\n",
       "      <td>Section 50</td>\n",
       "      <td>Timeliness</td>\n",
       "      <td>Department of Citywide Administrative Services...</td>\n",
       "      <td>Open</td>\n",
       "      <td>12/28/2017</td>\n",
       "      <td>NaN</td>\n",
       "      <td>6012.0</td>\n",
       "      <td>Auto Mechanic</td>\n",
       "      <td>09/06/2021</td>\n",
       "      <td>NaN</td>\n",
       "      <td>DCAS</td>\n",
       "    </tr>\n",
       "    <tr>\n",
       "      <th>4</th>\n",
       "      <td>Section 50</td>\n",
       "      <td>Character</td>\n",
       "      <td>Police Department - NYPD</td>\n",
       "      <td>Open</td>\n",
       "      <td>12/28/2017</td>\n",
       "      <td>NaN</td>\n",
       "      <td>5329.0</td>\n",
       "      <td>Police Officer</td>\n",
       "      <td>07/07/2021</td>\n",
       "      <td>NaN</td>\n",
       "      <td>NYPD</td>\n",
       "    </tr>\n",
       "  </tbody>\n",
       "</table>\n",
       "</div>"
      ],
      "text/plain": [
       "      Appeal Type Appeal Subtype  \\\n",
       "0  Waiting for DQ            NaN   \n",
       "1      Section 50      Character   \n",
       "2      Section 50          Score   \n",
       "3      Section 50     Timeliness   \n",
       "4      Section 50      Character   \n",
       "\n",
       "                                              Agency Status  Date Filed  \\\n",
       "0                           Police Department - NYPD   Open  12/29/2017   \n",
       "1                           Police Department - NYPD   Open  12/29/2017   \n",
       "2  Department of Citywide Administrative Services...   Open  12/28/2017   \n",
       "3  Department of Citywide Administrative Services...   Open  12/28/2017   \n",
       "4                           Police Department - NYPD   Open  12/28/2017   \n",
       "\n",
       "  Date Closed  Exam No.                                   Title  Expiration  \\\n",
       "0         NaN       NaN                                     NaN         NaN   \n",
       "1         NaN    4316.0                          Police Officer  08/24/2020   \n",
       "2         NaN    6508.0  Child Protective Specialist Supervisor  07/26/2021   \n",
       "3         NaN    6012.0                           Auto Mechanic  09/06/2021   \n",
       "4         NaN    5329.0                          Police Officer  07/07/2021   \n",
       "\n",
       "   Extension Acronym  \n",
       "0        NaN    NYPD  \n",
       "1        NaN    NYPD  \n",
       "2        NaN    DCAS  \n",
       "3        NaN    DCAS  \n",
       "4        NaN    NYPD  "
      ]
     },
     "execution_count": 3,
     "metadata": {},
     "output_type": "execute_result"
    }
   ],
   "source": [
    "# Loading first five rows from Dataset\n",
    "\n",
    "data.head()"
   ]
  },
  {
   "cell_type": "code",
   "execution_count": 4,
   "id": "639d17fe",
   "metadata": {},
   "outputs": [
    {
     "data": {
      "text/html": [
       "<div>\n",
       "<style scoped>\n",
       "    .dataframe tbody tr th:only-of-type {\n",
       "        vertical-align: middle;\n",
       "    }\n",
       "\n",
       "    .dataframe tbody tr th {\n",
       "        vertical-align: top;\n",
       "    }\n",
       "\n",
       "    .dataframe thead th {\n",
       "        text-align: right;\n",
       "    }\n",
       "</style>\n",
       "<table border=\"1\" class=\"dataframe\">\n",
       "  <thead>\n",
       "    <tr style=\"text-align: right;\">\n",
       "      <th></th>\n",
       "      <th>Appeal Type</th>\n",
       "      <th>Appeal Subtype</th>\n",
       "      <th>Agency</th>\n",
       "      <th>Status</th>\n",
       "      <th>Date Filed</th>\n",
       "      <th>Date Closed</th>\n",
       "      <th>Exam No.</th>\n",
       "      <th>Title</th>\n",
       "      <th>Expiration</th>\n",
       "      <th>Extension</th>\n",
       "      <th>Acronym</th>\n",
       "    </tr>\n",
       "  </thead>\n",
       "  <tbody>\n",
       "    <tr>\n",
       "      <th>1260</th>\n",
       "      <td>Section 50</td>\n",
       "      <td>Psych</td>\n",
       "      <td>Police Department - NYPD</td>\n",
       "      <td>Closed</td>\n",
       "      <td>01/03/2017</td>\n",
       "      <td>12/06/2017</td>\n",
       "      <td>3317.0</td>\n",
       "      <td>Police Officer</td>\n",
       "      <td>12/16/2019</td>\n",
       "      <td>NaN</td>\n",
       "      <td>NYPD</td>\n",
       "    </tr>\n",
       "    <tr>\n",
       "      <th>1261</th>\n",
       "      <td>Section 50</td>\n",
       "      <td>Medical</td>\n",
       "      <td>Fire Department - FDNY</td>\n",
       "      <td>Closed</td>\n",
       "      <td>01/03/2017</td>\n",
       "      <td>04/06/2017</td>\n",
       "      <td>2000.0</td>\n",
       "      <td>Firefighter</td>\n",
       "      <td>06/26/2017</td>\n",
       "      <td>NaN</td>\n",
       "      <td>FDNY</td>\n",
       "    </tr>\n",
       "    <tr>\n",
       "      <th>1262</th>\n",
       "      <td>Section 50</td>\n",
       "      <td>Timeliness</td>\n",
       "      <td>Department of Citywide Administrative Services...</td>\n",
       "      <td>Closed</td>\n",
       "      <td>01/03/2017</td>\n",
       "      <td>03/23/2017</td>\n",
       "      <td>6036.0</td>\n",
       "      <td>Public Health Sanitarian</td>\n",
       "      <td>12/07/2020</td>\n",
       "      <td>NaN</td>\n",
       "      <td>DCAS</td>\n",
       "    </tr>\n",
       "    <tr>\n",
       "      <th>1263</th>\n",
       "      <td>Section 50</td>\n",
       "      <td>Education and Experience</td>\n",
       "      <td>Department of Citywide Administrative Services...</td>\n",
       "      <td>Closed</td>\n",
       "      <td>01/03/2017</td>\n",
       "      <td>06/30/2017</td>\n",
       "      <td>5017.0</td>\n",
       "      <td>Computer Programmer Analyst Trainee</td>\n",
       "      <td>NaN</td>\n",
       "      <td>NaN</td>\n",
       "      <td>DCAS</td>\n",
       "    </tr>\n",
       "    <tr>\n",
       "      <th>1264</th>\n",
       "      <td>Section 50</td>\n",
       "      <td>Education and Experience</td>\n",
       "      <td>Department of Citywide Administrative Services...</td>\n",
       "      <td>Closed</td>\n",
       "      <td>01/03/2017</td>\n",
       "      <td>03/21/2017</td>\n",
       "      <td>6042.0</td>\n",
       "      <td>Construction Project Manager</td>\n",
       "      <td>NaN</td>\n",
       "      <td>NaN</td>\n",
       "      <td>DCAS</td>\n",
       "    </tr>\n",
       "  </tbody>\n",
       "</table>\n",
       "</div>"
      ],
      "text/plain": [
       "     Appeal Type            Appeal Subtype  \\\n",
       "1260  Section 50                     Psych   \n",
       "1261  Section 50                   Medical   \n",
       "1262  Section 50                Timeliness   \n",
       "1263  Section 50  Education and Experience   \n",
       "1264  Section 50  Education and Experience   \n",
       "\n",
       "                                                 Agency  Status  Date Filed  \\\n",
       "1260                           Police Department - NYPD  Closed  01/03/2017   \n",
       "1261                             Fire Department - FDNY  Closed  01/03/2017   \n",
       "1262  Department of Citywide Administrative Services...  Closed  01/03/2017   \n",
       "1263  Department of Citywide Administrative Services...  Closed  01/03/2017   \n",
       "1264  Department of Citywide Administrative Services...  Closed  01/03/2017   \n",
       "\n",
       "     Date Closed  Exam No.                                Title  Expiration  \\\n",
       "1260  12/06/2017    3317.0                       Police Officer  12/16/2019   \n",
       "1261  04/06/2017    2000.0                          Firefighter  06/26/2017   \n",
       "1262  03/23/2017    6036.0             Public Health Sanitarian  12/07/2020   \n",
       "1263  06/30/2017    5017.0  Computer Programmer Analyst Trainee         NaN   \n",
       "1264  03/21/2017    6042.0         Construction Project Manager         NaN   \n",
       "\n",
       "      Extension Acronym  \n",
       "1260        NaN    NYPD  \n",
       "1261        NaN    FDNY  \n",
       "1262        NaN    DCAS  \n",
       "1263        NaN    DCAS  \n",
       "1264        NaN    DCAS  "
      ]
     },
     "execution_count": 4,
     "metadata": {},
     "output_type": "execute_result"
    }
   ],
   "source": [
    "# Loading last 5 rows from the Dataset\n",
    "\n",
    "data.tail()"
   ]
  },
  {
   "cell_type": "code",
   "execution_count": 5,
   "id": "5bcca627",
   "metadata": {},
   "outputs": [
    {
     "data": {
      "text/plain": [
       "(1265, 11)"
      ]
     },
     "execution_count": 5,
     "metadata": {},
     "output_type": "execute_result"
    }
   ],
   "source": [
    "# Displaying the number of rows and columns prior to Data Cleaning\n",
    "\n",
    "data.shape"
   ]
  },
  {
   "cell_type": "code",
   "execution_count": 6,
   "id": "b4280350",
   "metadata": {},
   "outputs": [
    {
     "data": {
      "text/html": [
       "<div>\n",
       "<style scoped>\n",
       "    .dataframe tbody tr th:only-of-type {\n",
       "        vertical-align: middle;\n",
       "    }\n",
       "\n",
       "    .dataframe tbody tr th {\n",
       "        vertical-align: top;\n",
       "    }\n",
       "\n",
       "    .dataframe thead th {\n",
       "        text-align: right;\n",
       "    }\n",
       "</style>\n",
       "<table border=\"1\" class=\"dataframe\">\n",
       "  <thead>\n",
       "    <tr style=\"text-align: right;\">\n",
       "      <th></th>\n",
       "      <th>Exam No.</th>\n",
       "      <th>Extension</th>\n",
       "    </tr>\n",
       "  </thead>\n",
       "  <tbody>\n",
       "    <tr>\n",
       "      <th>count</th>\n",
       "      <td>1064.000000</td>\n",
       "      <td>0.0</td>\n",
       "    </tr>\n",
       "    <tr>\n",
       "      <th>mean</th>\n",
       "      <td>5321.635338</td>\n",
       "      <td>NaN</td>\n",
       "    </tr>\n",
       "    <tr>\n",
       "      <th>std</th>\n",
       "      <td>1626.870675</td>\n",
       "      <td>NaN</td>\n",
       "    </tr>\n",
       "    <tr>\n",
       "      <th>min</th>\n",
       "      <td>113.000000</td>\n",
       "      <td>NaN</td>\n",
       "    </tr>\n",
       "    <tr>\n",
       "      <th>25%</th>\n",
       "      <td>4310.000000</td>\n",
       "      <td>NaN</td>\n",
       "    </tr>\n",
       "    <tr>\n",
       "      <th>50%</th>\n",
       "      <td>5716.000000</td>\n",
       "      <td>NaN</td>\n",
       "    </tr>\n",
       "    <tr>\n",
       "      <th>75%</th>\n",
       "      <td>6524.000000</td>\n",
       "      <td>NaN</td>\n",
       "    </tr>\n",
       "    <tr>\n",
       "      <th>max</th>\n",
       "      <td>8213.000000</td>\n",
       "      <td>NaN</td>\n",
       "    </tr>\n",
       "  </tbody>\n",
       "</table>\n",
       "</div>"
      ],
      "text/plain": [
       "          Exam No.  Extension\n",
       "count  1064.000000        0.0\n",
       "mean   5321.635338        NaN\n",
       "std    1626.870675        NaN\n",
       "min     113.000000        NaN\n",
       "25%    4310.000000        NaN\n",
       "50%    5716.000000        NaN\n",
       "75%    6524.000000        NaN\n",
       "max    8213.000000        NaN"
      ]
     },
     "execution_count": 6,
     "metadata": {},
     "output_type": "execute_result"
    }
   ],
   "source": [
    "# Implementing the describe() on the dataset\n",
    "\n",
    "data.describe()"
   ]
  },
  {
   "cell_type": "code",
   "execution_count": 7,
   "id": "b1806e91",
   "metadata": {},
   "outputs": [
    {
     "data": {
      "text/plain": [
       "Appeal Type         7\n",
       "Appeal Subtype     14\n",
       "Agency             22\n",
       "Status              2\n",
       "Date Filed        264\n",
       "Date Closed       195\n",
       "Exam No.          221\n",
       "Title             144\n",
       "Expiration        146\n",
       "Extension           0\n",
       "Acronym            22\n",
       "dtype: int64"
      ]
     },
     "execution_count": 7,
     "metadata": {},
     "output_type": "execute_result"
    }
   ],
   "source": [
    "# number of distinct observations from each column in the Dataset\n",
    "\n",
    "data.nunique()"
   ]
  },
  {
   "cell_type": "markdown",
   "id": "ab611a7c",
   "metadata": {},
   "source": [
    "### Data Cleaning\n",
    "\n",
    "\n",
    "Checking if there are any Null values or Missing values in the Dataset"
   ]
  },
  {
   "cell_type": "code",
   "execution_count": 8,
   "id": "5da4006b",
   "metadata": {},
   "outputs": [
    {
     "data": {
      "text/plain": [
       "Appeal Type          0\n",
       "Appeal Subtype     162\n",
       "Agency               0\n",
       "Status               0\n",
       "Date Filed           0\n",
       "Date Closed        471\n",
       "Exam No.           201\n",
       "Title              201\n",
       "Expiration         470\n",
       "Extension         1265\n",
       "Acronym              0\n",
       "dtype: int64"
      ]
     },
     "execution_count": 8,
     "metadata": {},
     "output_type": "execute_result"
    }
   ],
   "source": [
    "# Retrieving the count of missing values from each column in the Dataset\n",
    "\n",
    "data.isnull().sum()"
   ]
  },
  {
   "cell_type": "code",
   "execution_count": 9,
   "id": "d3aa3736",
   "metadata": {},
   "outputs": [],
   "source": [
    "# Dropping the below tables as they are not essential for the dataset and does not effect the final outcome\n",
    "\n",
    "new_Data = data.drop(['Appeal Subtype','Date Closed','Exam No.','Title','Expiration','Extension'],axis=1)"
   ]
  },
  {
   "cell_type": "code",
   "execution_count": 10,
   "id": "fe6b93c2",
   "metadata": {},
   "outputs": [
    {
     "data": {
      "text/html": [
       "<div>\n",
       "<style scoped>\n",
       "    .dataframe tbody tr th:only-of-type {\n",
       "        vertical-align: middle;\n",
       "    }\n",
       "\n",
       "    .dataframe tbody tr th {\n",
       "        vertical-align: top;\n",
       "    }\n",
       "\n",
       "    .dataframe thead th {\n",
       "        text-align: right;\n",
       "    }\n",
       "</style>\n",
       "<table border=\"1\" class=\"dataframe\">\n",
       "  <thead>\n",
       "    <tr style=\"text-align: right;\">\n",
       "      <th></th>\n",
       "      <th>Appeal Type</th>\n",
       "      <th>Agency</th>\n",
       "      <th>Status</th>\n",
       "      <th>Date Filed</th>\n",
       "      <th>Acronym</th>\n",
       "    </tr>\n",
       "  </thead>\n",
       "  <tbody>\n",
       "    <tr>\n",
       "      <th>0</th>\n",
       "      <td>Waiting for DQ</td>\n",
       "      <td>Police Department - NYPD</td>\n",
       "      <td>Open</td>\n",
       "      <td>12/29/2017</td>\n",
       "      <td>NYPD</td>\n",
       "    </tr>\n",
       "    <tr>\n",
       "      <th>1</th>\n",
       "      <td>Section 50</td>\n",
       "      <td>Police Department - NYPD</td>\n",
       "      <td>Open</td>\n",
       "      <td>12/29/2017</td>\n",
       "      <td>NYPD</td>\n",
       "    </tr>\n",
       "    <tr>\n",
       "      <th>2</th>\n",
       "      <td>Section 50</td>\n",
       "      <td>Department of Citywide Administrative Services...</td>\n",
       "      <td>Open</td>\n",
       "      <td>12/28/2017</td>\n",
       "      <td>DCAS</td>\n",
       "    </tr>\n",
       "    <tr>\n",
       "      <th>3</th>\n",
       "      <td>Section 50</td>\n",
       "      <td>Department of Citywide Administrative Services...</td>\n",
       "      <td>Open</td>\n",
       "      <td>12/28/2017</td>\n",
       "      <td>DCAS</td>\n",
       "    </tr>\n",
       "    <tr>\n",
       "      <th>4</th>\n",
       "      <td>Section 50</td>\n",
       "      <td>Police Department - NYPD</td>\n",
       "      <td>Open</td>\n",
       "      <td>12/28/2017</td>\n",
       "      <td>NYPD</td>\n",
       "    </tr>\n",
       "  </tbody>\n",
       "</table>\n",
       "</div>"
      ],
      "text/plain": [
       "      Appeal Type                                             Agency Status  \\\n",
       "0  Waiting for DQ                           Police Department - NYPD   Open   \n",
       "1      Section 50                           Police Department - NYPD   Open   \n",
       "2      Section 50  Department of Citywide Administrative Services...   Open   \n",
       "3      Section 50  Department of Citywide Administrative Services...   Open   \n",
       "4      Section 50                           Police Department - NYPD   Open   \n",
       "\n",
       "   Date Filed Acronym  \n",
       "0  12/29/2017    NYPD  \n",
       "1  12/29/2017    NYPD  \n",
       "2  12/28/2017    DCAS  \n",
       "3  12/28/2017    DCAS  \n",
       "4  12/28/2017    NYPD  "
      ]
     },
     "execution_count": 10,
     "metadata": {},
     "output_type": "execute_result"
    }
   ],
   "source": [
    "# Analysing the data after data cleaning\n",
    "\n",
    "new_Data.head()"
   ]
  },
  {
   "cell_type": "code",
   "execution_count": 11,
   "id": "eb60d6e7",
   "metadata": {},
   "outputs": [
    {
     "data": {
      "text/plain": [
       "Appeal Type    0\n",
       "Agency         0\n",
       "Status         0\n",
       "Date Filed     0\n",
       "Acronym        0\n",
       "dtype: int64"
      ]
     },
     "execution_count": 11,
     "metadata": {},
     "output_type": "execute_result"
    }
   ],
   "source": [
    "# Checking for the null values after data cleaning \n",
    "\n",
    "new_Data.isnull().sum()"
   ]
  },
  {
   "cell_type": "code",
   "execution_count": 12,
   "id": "ee19eb13",
   "metadata": {},
   "outputs": [],
   "source": [
    "new_Data = new_Data.drop_duplicates(keep='first')"
   ]
  },
  {
   "cell_type": "code",
   "execution_count": 13,
   "id": "23d62287",
   "metadata": {},
   "outputs": [
    {
     "data": {
      "text/plain": [
       "(834, 5)"
      ]
     },
     "execution_count": 13,
     "metadata": {},
     "output_type": "execute_result"
    }
   ],
   "source": [
    "# Dimensions of Data after Data Cleaning\n",
    "\n",
    "new_Data.shape"
   ]
  },
  {
   "cell_type": "code",
   "execution_count": 14,
   "id": "36712459",
   "metadata": {},
   "outputs": [
    {
     "name": "stdout",
     "output_type": "stream",
     "text": [
      "<class 'pandas.core.frame.DataFrame'>\n",
      "Int64Index: 834 entries, 0 to 1262\n",
      "Data columns (total 5 columns):\n",
      " #   Column       Non-Null Count  Dtype \n",
      "---  ------       --------------  ----- \n",
      " 0   Appeal Type  834 non-null    object\n",
      " 1   Agency       834 non-null    object\n",
      " 2   Status       834 non-null    object\n",
      " 3   Date Filed   834 non-null    object\n",
      " 4   Acronym      834 non-null    object\n",
      "dtypes: object(5)\n",
      "memory usage: 39.1+ KB\n"
     ]
    }
   ],
   "source": [
    "new_Data.info()"
   ]
  },
  {
   "cell_type": "markdown",
   "id": "0131be7e",
   "metadata": {},
   "source": [
    "### Hypothesis 1 : There are more appeals filed from Agency \"Police Department - NYPD\"?"
   ]
  },
  {
   "cell_type": "code",
   "execution_count": 15,
   "id": "7b7d271e",
   "metadata": {},
   "outputs": [
    {
     "data": {
      "text/html": [
       "<div>\n",
       "<style scoped>\n",
       "    .dataframe tbody tr th:only-of-type {\n",
       "        vertical-align: middle;\n",
       "    }\n",
       "\n",
       "    .dataframe tbody tr th {\n",
       "        vertical-align: top;\n",
       "    }\n",
       "\n",
       "    .dataframe thead th {\n",
       "        text-align: right;\n",
       "    }\n",
       "</style>\n",
       "<table border=\"1\" class=\"dataframe\">\n",
       "  <thead>\n",
       "    <tr style=\"text-align: right;\">\n",
       "      <th></th>\n",
       "      <th>Agency</th>\n",
       "      <th>Agency Count</th>\n",
       "    </tr>\n",
       "  </thead>\n",
       "  <tbody>\n",
       "    <tr>\n",
       "      <th>0</th>\n",
       "      <td>Department of Citywide Administrative Services...</td>\n",
       "      <td>329</td>\n",
       "    </tr>\n",
       "    <tr>\n",
       "      <th>1</th>\n",
       "      <td>Police Department - NYPD</td>\n",
       "      <td>229</td>\n",
       "    </tr>\n",
       "    <tr>\n",
       "      <th>2</th>\n",
       "      <td>Department of Correction - DOC</td>\n",
       "      <td>100</td>\n",
       "    </tr>\n",
       "    <tr>\n",
       "      <th>3</th>\n",
       "      <td>Fire Department - FDNY</td>\n",
       "      <td>51</td>\n",
       "    </tr>\n",
       "    <tr>\n",
       "      <th>4</th>\n",
       "      <td>MTA New York City Transit - NYCT</td>\n",
       "      <td>34</td>\n",
       "    </tr>\n",
       "    <tr>\n",
       "      <th>5</th>\n",
       "      <td>Housing Authority - NYCHA</td>\n",
       "      <td>20</td>\n",
       "    </tr>\n",
       "    <tr>\n",
       "      <th>6</th>\n",
       "      <td>Department of Sanitation - DSNY</td>\n",
       "      <td>18</td>\n",
       "    </tr>\n",
       "    <tr>\n",
       "      <th>7</th>\n",
       "      <td>Transit Authority - NYCTA</td>\n",
       "      <td>13</td>\n",
       "    </tr>\n",
       "    <tr>\n",
       "      <th>8</th>\n",
       "      <td>Human Resources Administration - HRA</td>\n",
       "      <td>8</td>\n",
       "    </tr>\n",
       "    <tr>\n",
       "      <th>9</th>\n",
       "      <td>Administration for Children's Services - ACS</td>\n",
       "      <td>6</td>\n",
       "    </tr>\n",
       "    <tr>\n",
       "      <th>10</th>\n",
       "      <td>Department of Finance - DOF</td>\n",
       "      <td>5</td>\n",
       "    </tr>\n",
       "    <tr>\n",
       "      <th>11</th>\n",
       "      <td>Department of Environmental Protection - DEP</td>\n",
       "      <td>5</td>\n",
       "    </tr>\n",
       "    <tr>\n",
       "      <th>12</th>\n",
       "      <td>Other - OTH</td>\n",
       "      <td>3</td>\n",
       "    </tr>\n",
       "    <tr>\n",
       "      <th>13</th>\n",
       "      <td>Civil Service Commission - NYCCSC</td>\n",
       "      <td>3</td>\n",
       "    </tr>\n",
       "    <tr>\n",
       "      <th>14</th>\n",
       "      <td>Department of Probation - DOP</td>\n",
       "      <td>2</td>\n",
       "    </tr>\n",
       "    <tr>\n",
       "      <th>15</th>\n",
       "      <td>Department of Parks and Recreation - DPR</td>\n",
       "      <td>2</td>\n",
       "    </tr>\n",
       "    <tr>\n",
       "      <th>16</th>\n",
       "      <td>Department of Social Services - DSS</td>\n",
       "      <td>1</td>\n",
       "    </tr>\n",
       "    <tr>\n",
       "      <th>17</th>\n",
       "      <td>Department of Buildings - DOB</td>\n",
       "      <td>1</td>\n",
       "    </tr>\n",
       "    <tr>\n",
       "      <th>18</th>\n",
       "      <td>Department of Investigation - DOI</td>\n",
       "      <td>1</td>\n",
       "    </tr>\n",
       "    <tr>\n",
       "      <th>19</th>\n",
       "      <td>Department of Education - DOE</td>\n",
       "      <td>1</td>\n",
       "    </tr>\n",
       "    <tr>\n",
       "      <th>20</th>\n",
       "      <td>Department of Health and Mental Hygiene - DOHMH</td>\n",
       "      <td>1</td>\n",
       "    </tr>\n",
       "    <tr>\n",
       "      <th>21</th>\n",
       "      <td>Department of Transportation - DOT</td>\n",
       "      <td>1</td>\n",
       "    </tr>\n",
       "  </tbody>\n",
       "</table>\n",
       "</div>"
      ],
      "text/plain": [
       "                                               Agency Agency Count\n",
       "0   Department of Citywide Administrative Services...          329\n",
       "1                            Police Department - NYPD          229\n",
       "2                      Department of Correction - DOC          100\n",
       "3                              Fire Department - FDNY           51\n",
       "4                    MTA New York City Transit - NYCT           34\n",
       "5                           Housing Authority - NYCHA           20\n",
       "6                     Department of Sanitation - DSNY           18\n",
       "7                           Transit Authority - NYCTA           13\n",
       "8                Human Resources Administration - HRA            8\n",
       "9        Administration for Children's Services - ACS            6\n",
       "10                        Department of Finance - DOF            5\n",
       "11       Department of Environmental Protection - DEP            5\n",
       "12                                        Other - OTH            3\n",
       "13                  Civil Service Commission - NYCCSC            3\n",
       "14                      Department of Probation - DOP            2\n",
       "15           Department of Parks and Recreation - DPR            2\n",
       "16                Department of Social Services - DSS            1\n",
       "17                      Department of Buildings - DOB            1\n",
       "18                  Department of Investigation - DOI            1\n",
       "19                      Department of Education - DOE            1\n",
       "20    Department of Health and Mental Hygiene - DOHMH            1\n",
       "21                 Department of Transportation - DOT            1"
      ]
     },
     "execution_count": 15,
     "metadata": {},
     "output_type": "execute_result"
    }
   ],
   "source": [
    "#To prove the above hypothesis, chechking the count of appeals filed from each category\n",
    "\n",
    "# creation of a new dataframe to store the values of column \"Agency\" and its count\n",
    "\n",
    "Agency_df = pd.DataFrame(new_Data.Agency.value_counts().reset_index().values, columns=[\"Agency\", \"Agency Count\"])\n",
    "Agency_count = Agency_df.sort_index(axis = 0, ascending=True)\n",
    "Agency_count"
   ]
  },
  {
   "cell_type": "markdown",
   "id": "c10b9435",
   "metadata": {},
   "source": [
    "### Hypothesis-1 : Visualizations\n",
    "\n",
    " After per the numeric values from the above cell, \n",
    " It is clear that Agency-\"Department of Citywide Administrative Services\" has more number of appeals.\n",
    " Therefore the hypothesis is false.\n",
    "\n",
    "\n",
    "To make visualization more clear only top five Agency has been considered in the descending order of count.\n",
    "\n"
   ]
  },
  {
   "cell_type": "code",
   "execution_count": 16,
   "id": "803b7c6a",
   "metadata": {},
   "outputs": [
    {
     "data": {
      "image/png": "[encoded data removed]",
      "text/plain": [
       "<Figure size 1800x864 with 1 Axes>"
      ]
     },
     "metadata": {
      "needs_background": "light"
     },
     "output_type": "display_data"
    }
   ],
   "source": [
    "# Creating a bar graph to visualize the hypothesis - 1\n",
    "\n",
    "# Considering only top 5 values based on highest count of appeals in descending order\n",
    "\n",
    "Agency = Agency_count['Agency'].head(5)\n",
    "count = Agency_count['Agency Count'].head(5)\n",
    " \n",
    "\n",
    "fig = plt.figure(figsize =(25, 12))\n",
    " \n",
    "\n",
    "plt.bar(Agency, count)\n",
    "\n",
    "plt.xlabel(\" A bar graph representing top 5 Agencies\")\n",
    "plt.ylabel(\"Count of petitions filed for each Agency\")\n",
    " \n",
    "\n",
    "plt.show()"
   ]
  },
  {
   "cell_type": "code",
   "execution_count": 17,
   "id": "dd548490",
   "metadata": {},
   "outputs": [
    {
     "data": {
      "image/png": "[encoded data removed]",
      "text/plain": [
       "<Figure size 720x576 with 1 Axes>"
      ]
     },
     "metadata": {},
     "output_type": "display_data"
    }
   ],
   "source": [
    "# Creating a pie chart to visualize the hypothesis - 1\n",
    "\n",
    "\n",
    "# Considering only top 5 values based on highest count of appeals in descending order\n",
    "\n",
    "Agency = Agency_count['Agency'].head(5)\n",
    "count = Agency_count['Agency Count'].head(5)\n",
    "\n",
    "# Figure Size\n",
    "\n",
    "fig = plt.figure(figsize =(10, 8))\n",
    " \n",
    "\n",
    "# defining Seaborn palette for color\n",
    "\n",
    "colors = sns.color_palette('pastel')[0:5]\n",
    "\n",
    "plt.xlabel(\"Pie chart representing the count of top 5 categories of Agency\")\n",
    "\n",
    "#creating pie chart\n",
    "plt.pie(count, labels = Agency, colors = colors, autopct='%.0f%%')\n",
    "plt.show()"
   ]
  },
  {
   "cell_type": "markdown",
   "id": "dd8a08e5",
   "metadata": {},
   "source": [
    "### As per the above visuals it is clearly proven that hypothesis is proved as false and Agency \"DCAS\" has more appeals"
   ]
  },
  {
   "cell_type": "markdown",
   "id": "127ce817",
   "metadata": {},
   "source": [
    "### Hypothesis 2: The total number of appeals that are closed is more than appleals open?"
   ]
  },
  {
   "cell_type": "code",
   "execution_count": 18,
   "id": "f3d3ab7d",
   "metadata": {},
   "outputs": [
    {
     "data": {
      "text/html": [
       "<div>\n",
       "<style scoped>\n",
       "    .dataframe tbody tr th:only-of-type {\n",
       "        vertical-align: middle;\n",
       "    }\n",
       "\n",
       "    .dataframe tbody tr th {\n",
       "        vertical-align: top;\n",
       "    }\n",
       "\n",
       "    .dataframe thead th {\n",
       "        text-align: right;\n",
       "    }\n",
       "</style>\n",
       "<table border=\"1\" class=\"dataframe\">\n",
       "  <thead>\n",
       "    <tr style=\"text-align: right;\">\n",
       "      <th></th>\n",
       "      <th>Status</th>\n",
       "      <th>Status Count</th>\n",
       "    </tr>\n",
       "  </thead>\n",
       "  <tbody>\n",
       "    <tr>\n",
       "      <th>0</th>\n",
       "      <td>Closed</td>\n",
       "      <td>521</td>\n",
       "    </tr>\n",
       "    <tr>\n",
       "      <th>1</th>\n",
       "      <td>Open</td>\n",
       "      <td>313</td>\n",
       "    </tr>\n",
       "  </tbody>\n",
       "</table>\n",
       "</div>"
      ],
      "text/plain": [
       "   Status Status Count\n",
       "0  Closed          521\n",
       "1    Open          313"
      ]
     },
     "execution_count": 18,
     "metadata": {},
     "output_type": "execute_result"
    }
   ],
   "source": [
    "# To prove the above hypothesis, checking the count of categories from the column status\n",
    "\n",
    "# Creation of a new dataframe to store the values of column \"Status\" and its count\n",
    "\n",
    "status_df = pd.DataFrame(new_Data.Status.value_counts().reset_index().values, columns=[\"Status\", \"Status Count\"])\n",
    "status_count = status_df.sort_index(axis = 0, ascending=True)\n",
    "status_count"
   ]
  },
  {
   "cell_type": "markdown",
   "id": "3a01b20d",
   "metadata": {},
   "source": [
    "### Hypothesis-2 : Visualizations\n",
    "\n",
    " After per the numeric values from the above cell, \n",
    " There are two categories in the column Status and to prove the hypothesis count of both catergories is retrieved.\n",
    " The value of closed category is more than open. Hence, the hypothesis is True.\n"
   ]
  },
  {
   "cell_type": "code",
   "execution_count": 19,
   "id": "6094566d",
   "metadata": {
    "scrolled": true
   },
   "outputs": [
    {
     "data": {
      "image/png": "[encoded data removed]",
      "text/plain": [
       "<Figure size 720x360 with 1 Axes>"
      ]
     },
     "metadata": {
      "needs_background": "light"
     },
     "output_type": "display_data"
    }
   ],
   "source": [
    "# Creating a Bar graph to visualize the hypothesis - 2\n",
    "\n",
    "# Considering the values of column \"Status\" count with two factors namely \"Closed\" & \"Open\"\n",
    "\n",
    "Status = status_count['Status']\n",
    "count = status_count['Status Count']\n",
    " \n",
    "# Figure Size\n",
    "fig = plt.figure(figsize =(10, 5))\n",
    " \n",
    "# Horizontal Bar Plot\n",
    "plt.bar(Status, count)\n",
    "plt.xlabel(\"Category of Status\")\n",
    "plt.ylabel(\"Count of status\")\n",
    " \n",
    "# Show Plot\n",
    "plt.show()\n",
    "\n"
   ]
  },
  {
   "cell_type": "code",
   "execution_count": 20,
   "id": "f765ae8a",
   "metadata": {
    "scrolled": true
   },
   "outputs": [
    {
     "data": {
      "image/png": "[encoded data removed]",
      "text/plain": [
       "<Figure size 576x432 with 1 Axes>"
      ]
     },
     "metadata": {},
     "output_type": "display_data"
    }
   ],
   "source": [
    "# Creating a pie chart to visualize the hypothesis - 2\n",
    "\n",
    "# Considering the values of column \"Status\" count with two factors namely \"Closed\" & \"Open\"\n",
    "\n",
    "Status = status_count['Status']\n",
    "count = status_count['Status Count']\n",
    " \n",
    "# Figure Size\n",
    "fig = plt.figure(figsize =(8, 6))\n",
    " \n",
    "\n",
    "#define Seaborn color palette to use\n",
    "colors = sns.color_palette('pastel')[0:5]\n",
    "\n",
    "plt.xlabel(\"Pie chart representing the count of both categories of Status\")\n",
    "\n",
    "#create pie chart\n",
    "plt.pie(count, labels = Status, colors = colors, autopct='%.0f%%')\n",
    "plt.show()"
   ]
  },
  {
   "cell_type": "markdown",
   "id": "47d64433",
   "metadata": {},
   "source": [
    "### As per the above visuals & numeric values, it is clearly proved that hypothesis is True."
   ]
  }
 ],
 "metadata": {
  "kernelspec": {
   "display_name": "Python 3 (ipykernel)",
   "language": "python",
   "name": "python3"
  },
  "language_info": {
   "codemirror_mode": {
    "name": "ipython",
    "version": 3
   },
   "file_extension": ".py",
   "mimetype": "text/x-python",
   "name": "python",
   "nbconvert_exporter": "python",
   "pygments_lexer": "ipython3",
   "version": "3.9.7"
  }
 },
 "nbformat": 4,
 "nbformat_minor": 5
}
