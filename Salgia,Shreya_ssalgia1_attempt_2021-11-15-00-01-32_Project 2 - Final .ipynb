{
 "cells": [
  {
   "cell_type": "markdown",
   "metadata": {},
   "source": [
    "# Exploratory Data Analysis of Past and Future Solar Eclipses \n",
    "\n"
   ]
  },
  {
   "cell_type": "markdown",
   "metadata": {},
   "source": [
    " Data Source - https://data.world/nasa/five-millennium-catalog-of-solar-eclipses-detailed/workspace/intro"
   ]
  },
  {
   "cell_type": "markdown",
   "metadata": {},
   "source": [
    "Analysis and Hypothesis: My purpose in selecting the dataset is I like to read and explore stars, planets, and the solar system as a whole. So from the dataset, these are the following hypotheses I would like to present. \n",
    "\n",
    "1. No of Eclipses - a graph displaying the total number of eclipses in each time range of which the dataset limit is declared. \n",
    "\n",
    "2. Frequency - How many times in a particular year has an eclipse situation occurred and comparison of frequencies of the 5 hundred year brackets. \n",
    "\n",
    "3. Location and Types - Typical location of eclipses given their type. Prediction of the next eclipse.\n",
    "\n",
    "4. Duration: The mean of durations of solar eclipses. \n"
   ]
  },
  {
   "cell_type": "markdown",
   "metadata": {},
   "source": [
    "Column     Heading     Definition/Description\n",
    "          \n",
    "   1       Catalog     Sequential number of the eclipse in the catalog links to\n",
    "           Number      the map published in the \n",
    "                       Five Millennium Canon of Solar Eclipses: -1999 to +3000. \n",
    "\n",
    "   2      Calendar     Calendar Date at instant of Greatest Eclipse. \n",
    "            Date       Gregorian Calendar is used for dates after 1582 Oct 15.  \n",
    "                       Julian Calendar is used for dates before 1582 Oct 04.   \n",
    "\n",
    "   3         TD of     Dynamical Time (TD) of Greatest Eclipse, the instant \n",
    "           Greatest    when the axis of the Moon's shadow cone passes closest\n",
    "           Eclipse     to Earth's center.\n",
    "\n",
    "   4         ΔT        Delta T (ΔT) is the arithmetic difference between \n",
    "                       Dynamical Time and Universal Time. It is a measure of \n",
    "                       the accumulated clock error due to the variable \n",
    "                       rotation period of Earth.\n",
    "\n",
    "   5        Luna       Lunation Number is the number of synodic months since \n",
    "             Num       New Moon of 2000 Jan 06. The Brown Lunation Number \n",
    "                       can be determined by adding 953.\n",
    "\n",
    "   6        Saros      Saros series number of eclipse.\n",
    "             Num       (Each eclipse in a Saros is separated by an interval\n",
    "                        of 18 years 11.3 days.)\n",
    "\n",
    "   7        Ecl.       Eclipse Type where:\n",
    "            Type         P  = Partial Eclipse.\n",
    "                         A  = Annular Eclipse.\n",
    "                         T  = Total Eclipse.\n",
    "                         H  = Hybrid or Annular/Total Eclipse."
   ]
  },
  {
   "cell_type": "markdown",
   "metadata": {},
   "source": [
    "References - \n",
    "https://towardsdatascience.com/geopandas-101-plot-any-data-with-a-latitude-and-longitude-on-a-map-98e01944b972\n",
    "https://stackoverflow.com/questions/48042915/sort-a-pandas-dataframe-series-by-month-name\n",
    "https://plotly.com/python/choropleth-maps/\n",
    "https://gis.stackexchange.com/questions/353724/error-when-converting-a-pandas-dataframe-to-a-geodataframe\n",
    "https://www.kaggle.com/yashgpt/choropleth-maps-geographic-visualization\n",
    "https://stackoverflow.com/questions/45574099/plot-different-columns-of-different-dataframe-in-the-same-plot-with-pandas"
   ]
  },
  {
   "cell_type": "code",
   "execution_count": null,
   "metadata": {
    "scrolled": true
   },
   "outputs": [],
   "source": [
    "#!pip install chart-studio\n"
   ]
  },
  {
   "cell_type": "code",
   "execution_count": null,
   "metadata": {},
   "outputs": [],
   "source": [
    "import pandas as pd\n",
    "import numpy as np\n",
    "import matplotlib.pyplot as plt\n",
    "import seaborn as sns\n",
    "#import descartes\n",
    "from chart_studio import plotly\n",
    "import plotly.express as px\n",
    "import geopandas as gpd\n",
    "from geopandas import GeoDataFrame\n",
    "from pathlib import Path\n",
    "from datetime import date\n",
    "from pandas.tseries.offsets import MonthEnd\n",
    "import plotly.graph_objs as go \n",
    "from plotly.offline import init_notebook_mode,iplot\n",
    "init_notebook_mode(connected=True)"
   ]
  },
  {
   "cell_type": "code",
   "execution_count": null,
   "metadata": {
    "scrolled": false
   },
   "outputs": [],
   "source": [
    "#1901 - 2000 \n",
    "url1 = 'https://drive.google.com/file/d/1dBnA5O9c0Nf1myhbEhlYSYLjaXcqiB7p/view?usp=sharing'\n",
    "path1 = 'https://drive.google.com/file/d/1dBnA5O9c0Nf1myhbEhlYSYLjaXcqiB7p/view?usp=sharing  + url1.split('/')[-2]'\n",
    "df1 = pd.read_csv('path1', error_bad_lines=False)\n",
    "df1.head()"
   ]
  },
  {
   "cell_type": "code",
   "execution_count": null,
   "metadata": {
    "scrolled": false
   },
   "outputs": [],
   "source": [
    "#dropping unwanted columns\n",
    "df2=df1.drop(columns=['ΔT s','Unnamed: 18','Gamma'])\n",
    "df2.head()"
   ]
  },
  {
   "cell_type": "code",
   "execution_count": null,
   "metadata": {},
   "outputs": [],
   "source": [
    "#imputing the central duration values using mean\n",
    "central_duration_mean = df2['Central Dur.'].mean()\n"
   ]
  },
  {
   "cell_type": "code",
   "execution_count": null,
   "metadata": {},
   "outputs": [],
   "source": [
    "df2['Central Dur.'].fillna(central_duration_mean,inplace=True)"
   ]
  },
  {
   "cell_type": "code",
   "execution_count": null,
   "metadata": {},
   "outputs": [],
   "source": [
    "df2.tail()"
   ]
  },
  {
   "cell_type": "code",
   "execution_count": null,
   "metadata": {},
   "outputs": [],
   "source": [
    "#imputing the saros num values using mean \n",
    "saros_mean = df2['Saros Num'].mean()"
   ]
  },
  {
   "cell_type": "code",
   "execution_count": null,
   "metadata": {},
   "outputs": [],
   "source": [
    "df2['Saros Num'].fillna(saros_mean,inplace=True)"
   ]
  },
  {
   "cell_type": "code",
   "execution_count": null,
   "metadata": {
    "scrolled": false
   },
   "outputs": [],
   "source": [
    "df2.head()"
   ]
  },
  {
   "cell_type": "code",
   "execution_count": null,
   "metadata": {
    "scrolled": true
   },
   "outputs": [],
   "source": [
    "df3 = df2.rename(columns={'Calendar Month': 'CalendarMonth'})\n",
    "df3.head()"
   ]
  },
  {
   "cell_type": "code",
   "execution_count": null,
   "metadata": {},
   "outputs": [],
   "source": [
    "#sorting the Calendar Month Column\n",
    "df4 = df3['CalendarMonth'] = pd.Categorical(df3['CalendarMonth'], categories = CalendarMonth, ordered=True)\n",
    "df4.sort_values(...)"
   ]
  },
  {
   "cell_type": "code",
   "execution_count": null,
   "metadata": {},
   "outputs": [],
   "source": [
    "df4.plot(subplots=True, figsize=(6, 6));"
   ]
  },
  {
   "cell_type": "code",
   "execution_count": null,
   "metadata": {
    "scrolled": false
   },
   "outputs": [],
   "source": [
    "#types of eclipses as per month and year \n",
    "p1 = sns.swarmplot(x=\"Calendar Month\", y=\"Calendar Year\", hue=\"QLE\", data=df3)\n",
    "p1.legend_.remove()\n",
    "plt.legend(loc=\"upper left\", bbox_to_anchor=(1,1))\n",
    "plt.show()"
   ]
  },
  {
   "cell_type": "markdown",
   "metadata": {},
   "source": [
    "Conclusion - Partial eclipse is the majority occurrences with certain occurences falling out of the specified criterias"
   ]
  },
  {
   "cell_type": "code",
   "execution_count": null,
   "metadata": {
    "scrolled": true
   },
   "outputs": [],
   "source": [
    "#Plotting the duration using KDE plot\n",
    "plt.figure(figsize=(8,6))\n",
    "sns.kdeplot(\n",
    "   data=df3, x=\"Central Dur.\", hue=\"QLE\",\n",
    "   fill=True, common_norm=False, palette=\"crest\",\n",
    "   alpha=.5, linewidth=0,\n",
    ")\n"
   ]
  },
  {
   "cell_type": "markdown",
   "metadata": {},
   "source": [
    "Conclusion - The central duration of different QLE is the Partial Eclipse then the Total eclipse."
   ]
  },
  {
   "cell_type": "code",
   "execution_count": null,
   "metadata": {},
   "outputs": [],
   "source": [
    "#downloaded the countries.geojson file\n",
    "from shapely.geometry import Point\n",
    "geometry = .points_from_xy(df3['Lat °'].astype('float32'), df3['Long °'].astype('float32'))\n",
    "gdf = GeoDataFrame(df3, geometry=geometry)   \n",
    "\n",
    "#this is a simple map that goes with geopandas\n",
    "world = gpd.read_file(gpd.datasets.get_path('countries.geojson'))\n",
    "gdf.plot(ax=world.plot(figsize=(10, 6)), marker='o', color='red', markersize=15);\n",
    "fig.show()"
   ]
  },
  {
   "cell_type": "code",
   "execution_count": null,
   "metadata": {},
   "outputs": [],
   "source": [
    "import plotly.graph_objects as go\n",
    "\n",
    "\n",
    "df4 = pd.read_csv('1901-2000.csv')\n",
    "\n",
    "fig = go.Figure(data=go.Choropleth(\n",
    "    locations = df4['Lat °'],\n",
    "    z = df4['QLE'],\n",
    "    text = df4['Sun Alt °'],\n",
    "    colorscale = 'Blues',\n",
    "    autocolorscale=False,\n",
    "    reversescale=True,\n",
    "    marker_line_color='darkgray',\n",
    "    marker_line_width=0.5,\n",
    "    colorbar_tickprefix = '',\n",
    "    colorbar_title = 'QLE',\n",
    "))\n",
    "\n",
    "fig.update_layout(\n",
    "    title_text='Solar Eclipses<br>Locations',\n",
    "    geo=dict(\n",
    "        showframe=False,\n",
    "        showcoastlines=False,\n",
    "        projection_type='equirectangular'\n",
    "    ),\n",
    "    annotations = [dict(\n",
    "        x=0.55,\n",
    "        y=0.1,\n",
    "        xref='paper',\n",
    "        yref='paper',\n",
    "        text='Source: <countries.geojson>',\n",
    "        showarrow = False\n",
    "    )]\n",
    ")\n",
    "\n",
    "fig.show()\n"
   ]
  },
  {
   "cell_type": "code",
   "execution_count": null,
   "metadata": {
    "scrolled": true
   },
   "outputs": [],
   "source": [
    "#Specifically for USA region\n",
    "df2 = pd.read_csv(\"1901-2000.csv\",\n",
    "                   dtype={\"Long °\": str})\n",
    "\n",
    "\n",
    "\n",
    "fig = px.choropleth(df2, geojson=counties, locations='Long °', color='QLE',\n",
    "                           color_continuous_scale=\"Viridis\",\n",
    "                           range_color=(0, 12),\n",
    "                           scope=\"usa\",\n",
    "                           labels={'QLE':'Type of Eclipses'}\n",
    "                          )\n",
    "fig.update_layout(margin={\"r\":0,\"t\":0,\"l\":0,\"b\":0})\n",
    "fig.show()"
   ]
  },
  {
   "cell_type": "code",
   "execution_count": null,
   "metadata": {},
   "outputs": [],
   "source": [
    "import plotly.express as px\n",
    "\n",
    "df2 = px.data.gapminder().query(\"Calendar Year==1997\")\n",
    "fig = px.choropleth(df, locations=\"iso_alpha\",\n",
    "                    color=\"QLE\", # QLE is a column of gapminder\n",
    "                    hover_name=\"country\", # column to add to hover information\n",
    "                    color_continuous_scale=px.colors.sequential.Plasma)\n",
    "fig.show()"
   ]
  },
  {
   "cell_type": "raw",
   "metadata": {},
   "source": [
    "Second File"
   ]
  },
  {
   "cell_type": "code",
   "execution_count": null,
   "metadata": {
    "scrolled": true
   },
   "outputs": [],
   "source": [
    "#2001 - 2100\n",
    "url2 = 'https://drive.google.com/file/d/1d0rfJxQUIIAYIXKYJ7xbcpOOV1SFwdBr/view?usp=sharing'\n",
    "path2 = 'https://drive.google.com/file/d/1d0rfJxQUIIAYIXKYJ7xbcpOOV1SFwdBr/view?usp=sharing  + url2.split('/')[-2]'\n",
    "df5 = pd.read_csv('path2', error_bad_lines=False)\n",
    "df5.head()"
   ]
  },
  {
   "cell_type": "code",
   "execution_count": null,
   "metadata": {},
   "outputs": [],
   "source": [
    "#dropping unwanted columns\n",
    "df6 = df5.drop(columns=['ΔT s','Gamma','Saros Num','Ecl. Mag.'])\n"
   ]
  },
  {
   "cell_type": "code",
   "execution_count": null,
   "metadata": {
    "scrolled": true
   },
   "outputs": [],
   "source": [
    "df6.head()"
   ]
  },
  {
   "cell_type": "code",
   "execution_count": null,
   "metadata": {
    "scrolled": true
   },
   "outputs": [],
   "source": [
    "df6.replace({'#NAME?': 0})"
   ]
  },
  {
   "cell_type": "code",
   "execution_count": null,
   "metadata": {},
   "outputs": [],
   "source": [
    "df7 = df6.replace({'NaN':0})\n"
   ]
  },
  {
   "cell_type": "code",
   "execution_count": null,
   "metadata": {},
   "outputs": [],
   "source": [
    "df7.head()"
   ]
  },
  {
   "cell_type": "code",
   "execution_count": null,
   "metadata": {
    "scrolled": true
   },
   "outputs": [],
   "source": [
    "plt.figure(figsize=(8,6))\n",
    "p2 = sns.swarmplot(x=\"Calendar Month\", y=\"Calendar Year\", hue=\"QLE\", data=df7)\n",
    "p2.legend_.remove()\n",
    "plt.legend(loc=\"upper left\", bbox_to_anchor=(1,1))\n",
    "plt.show()"
   ]
  },
  {
   "cell_type": "markdown",
   "metadata": {},
   "source": [
    "Conclusion - The future eclipses between the year 2020 and 2040 will be total eclipses and no eclipses in the month of April,October,May and Novemeber"
   ]
  },
  {
   "cell_type": "code",
   "execution_count": null,
   "metadata": {
    "scrolled": true
   },
   "outputs": [],
   "source": [
    "#Plotting the duration month wise using KDE plot\n",
    "plt.figure(figsize=(8,6))\n",
    "sns.kdeplot(\n",
    "   data=df2, x=\"Central Dur.\", hue=\"Calendar Month\",\n",
    "   fill=True, common_norm=False, palette=\"crest\",\n",
    "   alpha=.5, linewidth=0,\n",
    ")\n",
    "\n"
   ]
  },
  {
   "cell_type": "code",
   "execution_count": null,
   "metadata": {},
   "outputs": [],
   "source": []
  },
  {
   "cell_type": "code",
   "execution_count": null,
   "metadata": {
    "scrolled": true
   },
   "outputs": [],
   "source": [
    "df7.plot(subplots=True, figsize=(6, 6));"
   ]
  },
  {
   "cell_type": "code",
   "execution_count": null,
   "metadata": {},
   "outputs": [],
   "source": [
    "#plotting monthly data over years\n",
    "for Calendar_Month in df7():\n",
    "    data = df7[df7.Calendar_Month == month]  # filter and plot the data for a specific month\n",
    "    plt.figure()  # create a new figure for each month\n",
    "    sns.lineplot(data.Central_Dur, Path_Width_km, marker='QLE')\n",
    "    plt.xlim(date(2011, 1, 1), date(2021, 1, 1))\n",
    "    plt.title(f'Month: {month}')\n",
    "    plt.ylabel('df2: PPB')\n",
    "    plt.xlabel('Year')"
   ]
  },
  {
   "cell_type": "code",
   "execution_count": null,
   "metadata": {},
   "outputs": [],
   "source": [
    "for k, v in df.groupby('Calendar Month'):  # group the dateframe by month\n",
    "    plt.figure(figsize=(10, 20))\n",
    "\n",
    "    sns.barplot(x=v.r_mean, y=v.day, ci=None, orient='h', hue=v.index.year)\n",
    "    plt.title(f'Month: {k}')\n",
    "    plt.ylabel('Day of Month')\n",
    "    plt.legend(bbox_to_anchor=(1.04,0.5), loc=\"center left\", borderaxespad=0)\n",
    "plt.show()"
   ]
  },
  {
   "cell_type": "code",
   "execution_count": null,
   "metadata": {},
   "outputs": [],
   "source": [
    "data = dict(\n",
    "        type = 'choropleth',\n",
    "        colorscale = 'Viridis',\n",
    "        reversescale = True,\n",
    "        locations = df7['Central Dur.'],\n",
    "        locationmode = \"country names\",\n",
    "        z = df7['QLE'],\n",
    "        text = df7['Central Dur.'],\n",
    "        colorbar = {'title' : 'QLE'},\n",
    "      ) \n",
    "\n",
    "layout = dict(title = '2014 Solar Eclipse Location',\n",
    "                geo = dict(showframe = False,projection = {'type':'stereographic'})\n",
    "             )\n",
    "choromap = go.Figure(data = [data],layout = layout)\n",
    "iplot(choromap,validate=False)\n"
   ]
  },
  {
   "cell_type": "code",
   "execution_count": null,
   "metadata": {
    "scrolled": false
   },
   "outputs": [],
   "source": [
    "#Comparing the Central Duration and path width in km for both the centuries\n",
    "a = np.linspace(-3,3, 11)\n",
    "data1 = np.sort(np.random.rand(len(a),3))\n",
    "data1[:,0] =a \n",
    "data2 = np.sort(np.random.rand(len(a),3))*10\n",
    "data2[:,0] =a \n",
    "df4 = pd.DataFrame(data1, columns=[\"Central Dur.\", \"Time\", \"Path Width Km\"])\n",
    "df7 = pd.DataFrame(data2, columns=[\"Central Dur.\", \"Time\", \"Path Width Km\"])\n",
    "\n",
    "fig, ax = plt.subplots()\n",
    "ax2 = ax.twinx()\n",
    "\n",
    "df4.plot(x=\"Central Dur.\", y=[\"Time\", \"Path Width Km\"], ax=ax)\n",
    "df7.plot(x=\"Central Dur.\", y=[\"Time\", \"Path Width Km\"], ax=ax2, ls=\"--\")\n",
    "\n",
    "plt.show()"
   ]
  },
  {
   "cell_type": "markdown",
   "metadata": {},
   "source": [
    "Conclusion - The central duration of the future eclipses will be low and the path travelled will also take a dip."
   ]
  },
  {
   "cell_type": "code",
   "execution_count": null,
   "metadata": {},
   "outputs": [],
   "source": [
    "#Calculate the mean \n",
    "df2['Central Dur.'].mean()\n"
   ]
  },
  {
   "cell_type": "code",
   "execution_count": null,
   "metadata": {},
   "outputs": [],
   "source": [
    "#calculate the mean \n",
    "df7['Central Dur.'].mean()"
   ]
  },
  {
   "cell_type": "code",
   "execution_count": null,
   "metadata": {
    "scrolled": true
   },
   "outputs": [],
   "source": [
    "#Central Dur.1 = 1901-2000\n",
    "#Central Dur.2 = 2001-2100\n",
    "data = [df2[\"Central Dur.\"], df7[\"Central Dur.\"]]\n",
    "\n",
    "headers = [\"Central Dur.1\", \"Central Dur.2\"]\n",
    "\n",
    "df10 = pd.concat(data, axis=1, keys=headers)\n",
    "\n",
    "print(df10)"
   ]
  },
  {
   "cell_type": "code",
   "execution_count": null,
   "metadata": {},
   "outputs": [],
   "source": [
    "df10.replace({'NaN':0})"
   ]
  },
  {
   "cell_type": "code",
   "execution_count": null,
   "metadata": {},
   "outputs": [],
   "source": []
  }
 ],
 "metadata": {
  "kernelspec": {
   "display_name": "Python 3",
   "language": "python",
   "name": "python3"
  },
  "language_info": {
   "codemirror_mode": {
    "name": "ipython",
    "version": 3
   },
   "file_extension": ".py",
   "mimetype": "text/x-python",
   "name": "python",
   "nbconvert_exporter": "python",
   "pygments_lexer": "ipython3",
   "version": "3.7.4"
  }
 },
 "nbformat": 4,
 "nbformat_minor": 5
}
