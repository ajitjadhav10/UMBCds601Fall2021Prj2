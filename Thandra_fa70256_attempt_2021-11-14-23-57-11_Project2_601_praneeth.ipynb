{
 "cells": [
  {
   "cell_type": "markdown",
   "id": "11962b89",
   "metadata": {},
   "source": [
    "# project 2 notebook"
   ]
  },
  {
   "cell_type": "markdown",
   "id": "b6299ec5",
   "metadata": {},
   "source": [
    "# Proposal\n",
    "Data Link:\n",
    "https://data.world/aaronhoffman/us-general-election-2012/workspace/file?filename=us-election-2012-results-by-county.csv\n",
    "\n",
    "DATA DISCOVERY:\n",
    "By searching the required domains in data world website I came across this dataset\n",
    "DATA is free to download, Getting and using data doesn't violate terms of service. Documented EDA is not available for the data.But we should login with any gmail to get the data\n",
    "\n",
    "Size of Data:\n",
    "1.39 MB and  13 columns, 23238 rows in table\n",
    "\n",
    "Context:\n",
    "The data is about United States Election Vote count in 2012.\n",
    "\n",
    "1.Votes polling percentage is always less than 70% in each county?\n",
    "2.The count of PrecintsReporting is 95% matched with the count of TotalPrecincts?\n",
    "3.Barack Obama took 60% of the popular vote.\n",
    "4.Califonia has more total number of votes than Texas.\n"
   ]
  },
  {
   "cell_type": "code",
   "execution_count": 3,
   "id": "25aad938",
   "metadata": {},
   "outputs": [],
   "source": [
    "import pandas as pd\n",
    "import numpy as np \n",
    "import seaborn as sns\n",
    "import matplotlib.pyplot as plt\n"
   ]
  },
  {
   "cell_type": "code",
   "execution_count": 4,
   "id": "52c40361",
   "metadata": {},
   "outputs": [],
   "source": [
    "election = pd.read_csv('https://query.data.world/s/hlcqnvgd7uthnsocydktldssywwy7c')"
   ]
  },
  {
   "cell_type": "markdown",
   "id": "df770125",
   "metadata": {},
   "source": [
    "Let us now try and look into the data, understand the skeleton of it."
   ]
  },
  {
   "cell_type": "code",
   "execution_count": 5,
   "id": "2ff403e2",
   "metadata": {},
   "outputs": [
    {
     "data": {
      "text/plain": [
       "(23238, 13)"
      ]
     },
     "execution_count": 5,
     "metadata": {},
     "output_type": "execute_result"
    }
   ],
   "source": [
    "election.shape"
   ]
  },
  {
   "cell_type": "code",
   "execution_count": 6,
   "id": "824214e5",
   "metadata": {},
   "outputs": [
    {
     "data": {
      "text/plain": [
       "County2012Id          int64\n",
       "StateCode            object\n",
       "CountyName           object\n",
       "CountyNumber          int64\n",
       "FipsCode              int64\n",
       "PrecintsReporting     int64\n",
       "TotalPrecincts        int64\n",
       "CountyTotalVotes      int64\n",
       "SourceOrder           int64\n",
       "Party                object\n",
       "FirstName            object\n",
       "LastName             object\n",
       "Votes                 int64\n",
       "dtype: object"
      ]
     },
     "execution_count": 6,
     "metadata": {},
     "output_type": "execute_result"
    }
   ],
   "source": [
    "election.dtypes"
   ]
  },
  {
   "cell_type": "code",
   "execution_count": 7,
   "id": "61ef7cb7",
   "metadata": {},
   "outputs": [
    {
     "data": {
      "text/plain": [
       "County2012Id          0\n",
       "StateCode             0\n",
       "CountyName            0\n",
       "CountyNumber          0\n",
       "FipsCode              0\n",
       "PrecintsReporting     0\n",
       "TotalPrecincts        0\n",
       "CountyTotalVotes      0\n",
       "SourceOrder           0\n",
       "Party                 0\n",
       "FirstName            17\n",
       "LastName              0\n",
       "Votes                 0\n",
       "dtype: int64"
      ]
     },
     "execution_count": 7,
     "metadata": {},
     "output_type": "execute_result"
    }
   ],
   "source": [
    "election.isnull().sum()"
   ]
  },
  {
   "cell_type": "code",
   "execution_count": 8,
   "id": "e15e713d",
   "metadata": {},
   "outputs": [],
   "source": [
    "election['FirstName'].fillna(method='ffill', inplace=True) #filling the 17 null values in the FirstName "
   ]
  },
  {
   "cell_type": "code",
   "execution_count": 9,
   "id": "1627dd2b",
   "metadata": {},
   "outputs": [
    {
     "data": {
      "text/plain": [
       "County2012Id         0\n",
       "StateCode            0\n",
       "CountyName           0\n",
       "CountyNumber         0\n",
       "FipsCode             0\n",
       "PrecintsReporting    0\n",
       "TotalPrecincts       0\n",
       "CountyTotalVotes     0\n",
       "SourceOrder          0\n",
       "Party                0\n",
       "FirstName            0\n",
       "LastName             0\n",
       "Votes                0\n",
       "dtype: int64"
      ]
     },
     "execution_count": 9,
     "metadata": {},
     "output_type": "execute_result"
    }
   ],
   "source": [
    "election.isnull().sum()"
   ]
  },
  {
   "cell_type": "markdown",
   "id": "795cdbf1",
   "metadata": {},
   "source": [
    "Now the data is clean and we don't have any null values"
   ]
  },
  {
   "cell_type": "code",
   "execution_count": 10,
   "id": "fa80ccef",
   "metadata": {},
   "outputs": [
    {
     "data": {
      "text/html": [
       "<div>\n",
       "<style scoped>\n",
       "    .dataframe tbody tr th:only-of-type {\n",
       "        vertical-align: middle;\n",
       "    }\n",
       "\n",
       "    .dataframe tbody tr th {\n",
       "        vertical-align: top;\n",
       "    }\n",
       "\n",
       "    .dataframe thead th {\n",
       "        text-align: right;\n",
       "    }\n",
       "</style>\n",
       "<table border=\"1\" class=\"dataframe\">\n",
       "  <thead>\n",
       "    <tr style=\"text-align: right;\">\n",
       "      <th></th>\n",
       "      <th>County2012Id</th>\n",
       "      <th>StateCode</th>\n",
       "      <th>CountyName</th>\n",
       "      <th>CountyNumber</th>\n",
       "      <th>FipsCode</th>\n",
       "      <th>PrecintsReporting</th>\n",
       "      <th>TotalPrecincts</th>\n",
       "      <th>CountyTotalVotes</th>\n",
       "      <th>SourceOrder</th>\n",
       "      <th>Party</th>\n",
       "      <th>FirstName</th>\n",
       "      <th>LastName</th>\n",
       "      <th>Votes</th>\n",
       "    </tr>\n",
       "  </thead>\n",
       "  <tbody>\n",
       "    <tr>\n",
       "      <th>0</th>\n",
       "      <td>2</td>\n",
       "      <td>AK</td>\n",
       "      <td>Alaska</td>\n",
       "      <td>2001</td>\n",
       "      <td>2000</td>\n",
       "      <td>437</td>\n",
       "      <td>438</td>\n",
       "      <td>220596</td>\n",
       "      <td>1</td>\n",
       "      <td>Dem</td>\n",
       "      <td>Barack</td>\n",
       "      <td>Obama</td>\n",
       "      <td>91696</td>\n",
       "    </tr>\n",
       "    <tr>\n",
       "      <th>1</th>\n",
       "      <td>4</td>\n",
       "      <td>AL</td>\n",
       "      <td>Autauga</td>\n",
       "      <td>1001</td>\n",
       "      <td>1001</td>\n",
       "      <td>28</td>\n",
       "      <td>28</td>\n",
       "      <td>23909</td>\n",
       "      <td>1</td>\n",
       "      <td>Dem</td>\n",
       "      <td>Barack</td>\n",
       "      <td>Obama</td>\n",
       "      <td>6354</td>\n",
       "    </tr>\n",
       "    <tr>\n",
       "      <th>2</th>\n",
       "      <td>5</td>\n",
       "      <td>AL</td>\n",
       "      <td>Baldwin</td>\n",
       "      <td>1002</td>\n",
       "      <td>1003</td>\n",
       "      <td>55</td>\n",
       "      <td>55</td>\n",
       "      <td>84988</td>\n",
       "      <td>1</td>\n",
       "      <td>Dem</td>\n",
       "      <td>Barack</td>\n",
       "      <td>Obama</td>\n",
       "      <td>18329</td>\n",
       "    </tr>\n",
       "    <tr>\n",
       "      <th>3</th>\n",
       "      <td>6</td>\n",
       "      <td>AL</td>\n",
       "      <td>Barbour</td>\n",
       "      <td>1003</td>\n",
       "      <td>1005</td>\n",
       "      <td>19</td>\n",
       "      <td>19</td>\n",
       "      <td>11459</td>\n",
       "      <td>1</td>\n",
       "      <td>Dem</td>\n",
       "      <td>Barack</td>\n",
       "      <td>Obama</td>\n",
       "      <td>5873</td>\n",
       "    </tr>\n",
       "    <tr>\n",
       "      <th>4</th>\n",
       "      <td>7</td>\n",
       "      <td>AL</td>\n",
       "      <td>Bibb</td>\n",
       "      <td>1004</td>\n",
       "      <td>1007</td>\n",
       "      <td>10</td>\n",
       "      <td>10</td>\n",
       "      <td>8391</td>\n",
       "      <td>1</td>\n",
       "      <td>Dem</td>\n",
       "      <td>Barack</td>\n",
       "      <td>Obama</td>\n",
       "      <td>2200</td>\n",
       "    </tr>\n",
       "  </tbody>\n",
       "</table>\n",
       "</div>"
      ],
      "text/plain": [
       "   County2012Id StateCode CountyName  CountyNumber  FipsCode  \\\n",
       "0             2        AK     Alaska          2001      2000   \n",
       "1             4        AL    Autauga          1001      1001   \n",
       "2             5        AL    Baldwin          1002      1003   \n",
       "3             6        AL    Barbour          1003      1005   \n",
       "4             7        AL       Bibb          1004      1007   \n",
       "\n",
       "   PrecintsReporting  TotalPrecincts  CountyTotalVotes  SourceOrder Party  \\\n",
       "0                437             438            220596            1   Dem   \n",
       "1                 28              28             23909            1   Dem   \n",
       "2                 55              55             84988            1   Dem   \n",
       "3                 19              19             11459            1   Dem   \n",
       "4                 10              10              8391            1   Dem   \n",
       "\n",
       "  FirstName LastName  Votes  \n",
       "0    Barack    Obama  91696  \n",
       "1    Barack    Obama   6354  \n",
       "2    Barack    Obama  18329  \n",
       "3    Barack    Obama   5873  \n",
       "4    Barack    Obama   2200  "
      ]
     },
     "execution_count": 10,
     "metadata": {},
     "output_type": "execute_result"
    }
   ],
   "source": [
    "election.head()"
   ]
  },
  {
   "cell_type": "code",
   "execution_count": 11,
   "id": "c8510aec",
   "metadata": {},
   "outputs": [
    {
     "data": {
      "text/html": [
       "<div>\n",
       "<style scoped>\n",
       "    .dataframe tbody tr th:only-of-type {\n",
       "        vertical-align: middle;\n",
       "    }\n",
       "\n",
       "    .dataframe tbody tr th {\n",
       "        vertical-align: top;\n",
       "    }\n",
       "\n",
       "    .dataframe thead th {\n",
       "        text-align: right;\n",
       "    }\n",
       "</style>\n",
       "<table border=\"1\" class=\"dataframe\">\n",
       "  <thead>\n",
       "    <tr style=\"text-align: right;\">\n",
       "      <th></th>\n",
       "      <th>County2012Id</th>\n",
       "      <th>StateCode</th>\n",
       "      <th>CountyName</th>\n",
       "      <th>CountyNumber</th>\n",
       "      <th>FipsCode</th>\n",
       "      <th>PrecintsReporting</th>\n",
       "      <th>TotalPrecincts</th>\n",
       "      <th>CountyTotalVotes</th>\n",
       "      <th>SourceOrder</th>\n",
       "      <th>Party</th>\n",
       "      <th>FirstName</th>\n",
       "      <th>LastName</th>\n",
       "      <th>Votes</th>\n",
       "    </tr>\n",
       "  </thead>\n",
       "  <tbody>\n",
       "    <tr>\n",
       "      <th>23233</th>\n",
       "      <td>23594</td>\n",
       "      <td>CO</td>\n",
       "      <td>Summit</td>\n",
       "      <td>6059</td>\n",
       "      <td>8117</td>\n",
       "      <td>20</td>\n",
       "      <td>20</td>\n",
       "      <td>15038</td>\n",
       "      <td>16</td>\n",
       "      <td>SEP</td>\n",
       "      <td>Jerry</td>\n",
       "      <td>White</td>\n",
       "      <td>1</td>\n",
       "    </tr>\n",
       "    <tr>\n",
       "      <th>23234</th>\n",
       "      <td>23595</td>\n",
       "      <td>CO</td>\n",
       "      <td>Teller</td>\n",
       "      <td>6060</td>\n",
       "      <td>8119</td>\n",
       "      <td>13</td>\n",
       "      <td>13</td>\n",
       "      <td>12144</td>\n",
       "      <td>16</td>\n",
       "      <td>SEP</td>\n",
       "      <td>Jerry</td>\n",
       "      <td>White</td>\n",
       "      <td>1</td>\n",
       "    </tr>\n",
       "    <tr>\n",
       "      <th>23235</th>\n",
       "      <td>23596</td>\n",
       "      <td>CO</td>\n",
       "      <td>Washington</td>\n",
       "      <td>6061</td>\n",
       "      <td>8121</td>\n",
       "      <td>6</td>\n",
       "      <td>6</td>\n",
       "      <td>2567</td>\n",
       "      <td>16</td>\n",
       "      <td>SEP</td>\n",
       "      <td>Jerry</td>\n",
       "      <td>White</td>\n",
       "      <td>1</td>\n",
       "    </tr>\n",
       "    <tr>\n",
       "      <th>23236</th>\n",
       "      <td>23597</td>\n",
       "      <td>CO</td>\n",
       "      <td>Weld</td>\n",
       "      <td>6062</td>\n",
       "      <td>8123</td>\n",
       "      <td>109</td>\n",
       "      <td>109</td>\n",
       "      <td>112695</td>\n",
       "      <td>16</td>\n",
       "      <td>SEP</td>\n",
       "      <td>Jerry</td>\n",
       "      <td>White</td>\n",
       "      <td>5</td>\n",
       "    </tr>\n",
       "    <tr>\n",
       "      <th>23237</th>\n",
       "      <td>23598</td>\n",
       "      <td>CO</td>\n",
       "      <td>Yuma</td>\n",
       "      <td>6063</td>\n",
       "      <td>8125</td>\n",
       "      <td>14</td>\n",
       "      <td>14</td>\n",
       "      <td>4481</td>\n",
       "      <td>16</td>\n",
       "      <td>SEP</td>\n",
       "      <td>Jerry</td>\n",
       "      <td>White</td>\n",
       "      <td>0</td>\n",
       "    </tr>\n",
       "  </tbody>\n",
       "</table>\n",
       "</div>"
      ],
      "text/plain": [
       "       County2012Id StateCode  CountyName  CountyNumber  FipsCode  \\\n",
       "23233         23594        CO      Summit          6059      8117   \n",
       "23234         23595        CO      Teller          6060      8119   \n",
       "23235         23596        CO  Washington          6061      8121   \n",
       "23236         23597        CO        Weld          6062      8123   \n",
       "23237         23598        CO        Yuma          6063      8125   \n",
       "\n",
       "       PrecintsReporting  TotalPrecincts  CountyTotalVotes  SourceOrder Party  \\\n",
       "23233                 20              20             15038           16   SEP   \n",
       "23234                 13              13             12144           16   SEP   \n",
       "23235                  6               6              2567           16   SEP   \n",
       "23236                109             109            112695           16   SEP   \n",
       "23237                 14              14              4481           16   SEP   \n",
       "\n",
       "      FirstName LastName  Votes  \n",
       "23233     Jerry    White      1  \n",
       "23234     Jerry    White      1  \n",
       "23235     Jerry    White      1  \n",
       "23236     Jerry    White      5  \n",
       "23237     Jerry    White      0  "
      ]
     },
     "execution_count": 11,
     "metadata": {},
     "output_type": "execute_result"
    }
   ],
   "source": [
    "election.tail()"
   ]
  },
  {
   "cell_type": "markdown",
   "id": "a44c8a87",
   "metadata": {},
   "source": [
    "describe() summarizes the mean, standard deviation, min-max values and other statistical measures of a dataset’s distribution. This works only on columns that have numerical values."
   ]
  },
  {
   "cell_type": "code",
   "execution_count": 12,
   "id": "bc13b26d",
   "metadata": {},
   "outputs": [
    {
     "data": {
      "text/html": [
       "<div>\n",
       "<style scoped>\n",
       "    .dataframe tbody tr th:only-of-type {\n",
       "        vertical-align: middle;\n",
       "    }\n",
       "\n",
       "    .dataframe tbody tr th {\n",
       "        vertical-align: top;\n",
       "    }\n",
       "\n",
       "    .dataframe thead th {\n",
       "        text-align: right;\n",
       "    }\n",
       "</style>\n",
       "<table border=\"1\" class=\"dataframe\">\n",
       "  <thead>\n",
       "    <tr style=\"text-align: right;\">\n",
       "      <th></th>\n",
       "      <th>County2012Id</th>\n",
       "      <th>CountyNumber</th>\n",
       "      <th>FipsCode</th>\n",
       "      <th>PrecintsReporting</th>\n",
       "      <th>TotalPrecincts</th>\n",
       "      <th>CountyTotalVotes</th>\n",
       "      <th>SourceOrder</th>\n",
       "      <th>Votes</th>\n",
       "    </tr>\n",
       "  </thead>\n",
       "  <tbody>\n",
       "    <tr>\n",
       "      <th>count</th>\n",
       "      <td>23238.000000</td>\n",
       "      <td>23238.000000</td>\n",
       "      <td>23238.000000</td>\n",
       "      <td>23238.000000</td>\n",
       "      <td>23238.000000</td>\n",
       "      <td>2.323800e+04</td>\n",
       "      <td>23238.000000</td>\n",
       "      <td>2.323800e+04</td>\n",
       "    </tr>\n",
       "    <tr>\n",
       "      <th>mean</th>\n",
       "      <td>11798.502281</td>\n",
       "      <td>26355.031629</td>\n",
       "      <td>29393.794905</td>\n",
       "      <td>44.478354</td>\n",
       "      <td>44.678845</td>\n",
       "      <td>3.189770e+04</td>\n",
       "      <td>3.558051</td>\n",
       "      <td>5.300142e+03</td>\n",
       "    </tr>\n",
       "    <tr>\n",
       "      <th>std</th>\n",
       "      <td>6818.875460</td>\n",
       "      <td>13792.055582</td>\n",
       "      <td>14602.212720</td>\n",
       "      <td>152.736880</td>\n",
       "      <td>153.454698</td>\n",
       "      <td>9.414363e+04</td>\n",
       "      <td>2.507528</td>\n",
       "      <td>2.919487e+04</td>\n",
       "    </tr>\n",
       "    <tr>\n",
       "      <th>min</th>\n",
       "      <td>2.000000</td>\n",
       "      <td>1001.000000</td>\n",
       "      <td>1001.000000</td>\n",
       "      <td>0.000000</td>\n",
       "      <td>1.000000</td>\n",
       "      <td>0.000000e+00</td>\n",
       "      <td>1.000000</td>\n",
       "      <td>0.000000e+00</td>\n",
       "    </tr>\n",
       "    <tr>\n",
       "      <th>25%</th>\n",
       "      <td>5881.250000</td>\n",
       "      <td>16091.000000</td>\n",
       "      <td>19181.000000</td>\n",
       "      <td>4.000000</td>\n",
       "      <td>4.000000</td>\n",
       "      <td>2.543000e+03</td>\n",
       "      <td>2.000000</td>\n",
       "      <td>1.600000e+01</td>\n",
       "    </tr>\n",
       "    <tr>\n",
       "      <th>50%</th>\n",
       "      <td>11831.500000</td>\n",
       "      <td>24011.000000</td>\n",
       "      <td>27021.000000</td>\n",
       "      <td>14.000000</td>\n",
       "      <td>14.000000</td>\n",
       "      <td>7.684000e+03</td>\n",
       "      <td>3.000000</td>\n",
       "      <td>1.060000e+02</td>\n",
       "    </tr>\n",
       "    <tr>\n",
       "      <th>75%</th>\n",
       "      <td>17700.750000</td>\n",
       "      <td>39048.750000</td>\n",
       "      <td>42096.500000</td>\n",
       "      <td>32.000000</td>\n",
       "      <td>32.000000</td>\n",
       "      <td>1.972600e+04</td>\n",
       "      <td>4.000000</td>\n",
       "      <td>1.854000e+03</td>\n",
       "    </tr>\n",
       "    <tr>\n",
       "      <th>max</th>\n",
       "      <td>23598.000000</td>\n",
       "      <td>51408.000000</td>\n",
       "      <td>56045.000000</td>\n",
       "      <td>4993.000000</td>\n",
       "      <td>4993.000000</td>\n",
       "      <td>2.427869e+06</td>\n",
       "      <td>16.000000</td>\n",
       "      <td>1.672164e+06</td>\n",
       "    </tr>\n",
       "  </tbody>\n",
       "</table>\n",
       "</div>"
      ],
      "text/plain": [
       "       County2012Id  CountyNumber      FipsCode  PrecintsReporting  \\\n",
       "count  23238.000000  23238.000000  23238.000000       23238.000000   \n",
       "mean   11798.502281  26355.031629  29393.794905          44.478354   \n",
       "std     6818.875460  13792.055582  14602.212720         152.736880   \n",
       "min        2.000000   1001.000000   1001.000000           0.000000   \n",
       "25%     5881.250000  16091.000000  19181.000000           4.000000   \n",
       "50%    11831.500000  24011.000000  27021.000000          14.000000   \n",
       "75%    17700.750000  39048.750000  42096.500000          32.000000   \n",
       "max    23598.000000  51408.000000  56045.000000        4993.000000   \n",
       "\n",
       "       TotalPrecincts  CountyTotalVotes   SourceOrder         Votes  \n",
       "count    23238.000000      2.323800e+04  23238.000000  2.323800e+04  \n",
       "mean        44.678845      3.189770e+04      3.558051  5.300142e+03  \n",
       "std        153.454698      9.414363e+04      2.507528  2.919487e+04  \n",
       "min          1.000000      0.000000e+00      1.000000  0.000000e+00  \n",
       "25%          4.000000      2.543000e+03      2.000000  1.600000e+01  \n",
       "50%         14.000000      7.684000e+03      3.000000  1.060000e+02  \n",
       "75%         32.000000      1.972600e+04      4.000000  1.854000e+03  \n",
       "max       4993.000000      2.427869e+06     16.000000  1.672164e+06  "
      ]
     },
     "execution_count": 12,
     "metadata": {},
     "output_type": "execute_result"
    }
   ],
   "source": [
    "election.describe()"
   ]
  },
  {
   "cell_type": "markdown",
   "id": "14b069da",
   "metadata": {},
   "source": [
    "Now, that the data is all cleaned, the dataset is ready to be visualized."
   ]
  },
  {
   "cell_type": "markdown",
   "id": "342e1c94",
   "metadata": {},
   "source": [
    "# Hypothesis 1"
   ]
  },
  {
   "cell_type": "markdown",
   "id": "1ed719e7",
   "metadata": {},
   "source": [
    "# Vote polling percentage is always less than 70% in each county? "
   ]
  },
  {
   "cell_type": "code",
   "execution_count": 13,
   "id": "c9203d17",
   "metadata": {},
   "outputs": [],
   "source": [
    "election['Percentage'] = (election['Votes'] / election['CountyTotalVotes']) * 100\n"
   ]
  },
  {
   "cell_type": "code",
   "execution_count": 14,
   "id": "311ea8e2",
   "metadata": {},
   "outputs": [
    {
     "data": {
      "text/html": [
       "<div>\n",
       "<style scoped>\n",
       "    .dataframe tbody tr th:only-of-type {\n",
       "        vertical-align: middle;\n",
       "    }\n",
       "\n",
       "    .dataframe tbody tr th {\n",
       "        vertical-align: top;\n",
       "    }\n",
       "\n",
       "    .dataframe thead th {\n",
       "        text-align: right;\n",
       "    }\n",
       "</style>\n",
       "<table border=\"1\" class=\"dataframe\">\n",
       "  <thead>\n",
       "    <tr style=\"text-align: right;\">\n",
       "      <th></th>\n",
       "      <th>County2012Id</th>\n",
       "      <th>StateCode</th>\n",
       "      <th>CountyName</th>\n",
       "      <th>CountyNumber</th>\n",
       "      <th>FipsCode</th>\n",
       "      <th>PrecintsReporting</th>\n",
       "      <th>TotalPrecincts</th>\n",
       "      <th>CountyTotalVotes</th>\n",
       "      <th>SourceOrder</th>\n",
       "      <th>Party</th>\n",
       "      <th>FirstName</th>\n",
       "      <th>LastName</th>\n",
       "      <th>Votes</th>\n",
       "      <th>Percentage</th>\n",
       "    </tr>\n",
       "  </thead>\n",
       "  <tbody>\n",
       "    <tr>\n",
       "      <th>0</th>\n",
       "      <td>2</td>\n",
       "      <td>AK</td>\n",
       "      <td>Alaska</td>\n",
       "      <td>2001</td>\n",
       "      <td>2000</td>\n",
       "      <td>437</td>\n",
       "      <td>438</td>\n",
       "      <td>220596</td>\n",
       "      <td>1</td>\n",
       "      <td>Dem</td>\n",
       "      <td>Barack</td>\n",
       "      <td>Obama</td>\n",
       "      <td>91696</td>\n",
       "      <td>41.567390</td>\n",
       "    </tr>\n",
       "    <tr>\n",
       "      <th>1</th>\n",
       "      <td>4</td>\n",
       "      <td>AL</td>\n",
       "      <td>Autauga</td>\n",
       "      <td>1001</td>\n",
       "      <td>1001</td>\n",
       "      <td>28</td>\n",
       "      <td>28</td>\n",
       "      <td>23909</td>\n",
       "      <td>1</td>\n",
       "      <td>Dem</td>\n",
       "      <td>Barack</td>\n",
       "      <td>Obama</td>\n",
       "      <td>6354</td>\n",
       "      <td>26.575766</td>\n",
       "    </tr>\n",
       "    <tr>\n",
       "      <th>2</th>\n",
       "      <td>5</td>\n",
       "      <td>AL</td>\n",
       "      <td>Baldwin</td>\n",
       "      <td>1002</td>\n",
       "      <td>1003</td>\n",
       "      <td>55</td>\n",
       "      <td>55</td>\n",
       "      <td>84988</td>\n",
       "      <td>1</td>\n",
       "      <td>Dem</td>\n",
       "      <td>Barack</td>\n",
       "      <td>Obama</td>\n",
       "      <td>18329</td>\n",
       "      <td>21.566574</td>\n",
       "    </tr>\n",
       "    <tr>\n",
       "      <th>3</th>\n",
       "      <td>6</td>\n",
       "      <td>AL</td>\n",
       "      <td>Barbour</td>\n",
       "      <td>1003</td>\n",
       "      <td>1005</td>\n",
       "      <td>19</td>\n",
       "      <td>19</td>\n",
       "      <td>11459</td>\n",
       "      <td>1</td>\n",
       "      <td>Dem</td>\n",
       "      <td>Barack</td>\n",
       "      <td>Obama</td>\n",
       "      <td>5873</td>\n",
       "      <td>51.252291</td>\n",
       "    </tr>\n",
       "    <tr>\n",
       "      <th>4</th>\n",
       "      <td>7</td>\n",
       "      <td>AL</td>\n",
       "      <td>Bibb</td>\n",
       "      <td>1004</td>\n",
       "      <td>1007</td>\n",
       "      <td>10</td>\n",
       "      <td>10</td>\n",
       "      <td>8391</td>\n",
       "      <td>1</td>\n",
       "      <td>Dem</td>\n",
       "      <td>Barack</td>\n",
       "      <td>Obama</td>\n",
       "      <td>2200</td>\n",
       "      <td>26.218568</td>\n",
       "    </tr>\n",
       "    <tr>\n",
       "      <th>...</th>\n",
       "      <td>...</td>\n",
       "      <td>...</td>\n",
       "      <td>...</td>\n",
       "      <td>...</td>\n",
       "      <td>...</td>\n",
       "      <td>...</td>\n",
       "      <td>...</td>\n",
       "      <td>...</td>\n",
       "      <td>...</td>\n",
       "      <td>...</td>\n",
       "      <td>...</td>\n",
       "      <td>...</td>\n",
       "      <td>...</td>\n",
       "      <td>...</td>\n",
       "    </tr>\n",
       "    <tr>\n",
       "      <th>23233</th>\n",
       "      <td>23594</td>\n",
       "      <td>CO</td>\n",
       "      <td>Summit</td>\n",
       "      <td>6059</td>\n",
       "      <td>8117</td>\n",
       "      <td>20</td>\n",
       "      <td>20</td>\n",
       "      <td>15038</td>\n",
       "      <td>16</td>\n",
       "      <td>SEP</td>\n",
       "      <td>Jerry</td>\n",
       "      <td>White</td>\n",
       "      <td>1</td>\n",
       "      <td>0.006650</td>\n",
       "    </tr>\n",
       "    <tr>\n",
       "      <th>23234</th>\n",
       "      <td>23595</td>\n",
       "      <td>CO</td>\n",
       "      <td>Teller</td>\n",
       "      <td>6060</td>\n",
       "      <td>8119</td>\n",
       "      <td>13</td>\n",
       "      <td>13</td>\n",
       "      <td>12144</td>\n",
       "      <td>16</td>\n",
       "      <td>SEP</td>\n",
       "      <td>Jerry</td>\n",
       "      <td>White</td>\n",
       "      <td>1</td>\n",
       "      <td>0.008235</td>\n",
       "    </tr>\n",
       "    <tr>\n",
       "      <th>23235</th>\n",
       "      <td>23596</td>\n",
       "      <td>CO</td>\n",
       "      <td>Washington</td>\n",
       "      <td>6061</td>\n",
       "      <td>8121</td>\n",
       "      <td>6</td>\n",
       "      <td>6</td>\n",
       "      <td>2567</td>\n",
       "      <td>16</td>\n",
       "      <td>SEP</td>\n",
       "      <td>Jerry</td>\n",
       "      <td>White</td>\n",
       "      <td>1</td>\n",
       "      <td>0.038956</td>\n",
       "    </tr>\n",
       "    <tr>\n",
       "      <th>23236</th>\n",
       "      <td>23597</td>\n",
       "      <td>CO</td>\n",
       "      <td>Weld</td>\n",
       "      <td>6062</td>\n",
       "      <td>8123</td>\n",
       "      <td>109</td>\n",
       "      <td>109</td>\n",
       "      <td>112695</td>\n",
       "      <td>16</td>\n",
       "      <td>SEP</td>\n",
       "      <td>Jerry</td>\n",
       "      <td>White</td>\n",
       "      <td>5</td>\n",
       "      <td>0.004437</td>\n",
       "    </tr>\n",
       "    <tr>\n",
       "      <th>23237</th>\n",
       "      <td>23598</td>\n",
       "      <td>CO</td>\n",
       "      <td>Yuma</td>\n",
       "      <td>6063</td>\n",
       "      <td>8125</td>\n",
       "      <td>14</td>\n",
       "      <td>14</td>\n",
       "      <td>4481</td>\n",
       "      <td>16</td>\n",
       "      <td>SEP</td>\n",
       "      <td>Jerry</td>\n",
       "      <td>White</td>\n",
       "      <td>0</td>\n",
       "      <td>0.000000</td>\n",
       "    </tr>\n",
       "  </tbody>\n",
       "</table>\n",
       "<p>23238 rows × 14 columns</p>\n",
       "</div>"
      ],
      "text/plain": [
       "       County2012Id StateCode  CountyName  CountyNumber  FipsCode  \\\n",
       "0                 2        AK      Alaska          2001      2000   \n",
       "1                 4        AL     Autauga          1001      1001   \n",
       "2                 5        AL     Baldwin          1002      1003   \n",
       "3                 6        AL     Barbour          1003      1005   \n",
       "4                 7        AL        Bibb          1004      1007   \n",
       "...             ...       ...         ...           ...       ...   \n",
       "23233         23594        CO      Summit          6059      8117   \n",
       "23234         23595        CO      Teller          6060      8119   \n",
       "23235         23596        CO  Washington          6061      8121   \n",
       "23236         23597        CO        Weld          6062      8123   \n",
       "23237         23598        CO        Yuma          6063      8125   \n",
       "\n",
       "       PrecintsReporting  TotalPrecincts  CountyTotalVotes  SourceOrder Party  \\\n",
       "0                    437             438            220596            1   Dem   \n",
       "1                     28              28             23909            1   Dem   \n",
       "2                     55              55             84988            1   Dem   \n",
       "3                     19              19             11459            1   Dem   \n",
       "4                     10              10              8391            1   Dem   \n",
       "...                  ...             ...               ...          ...   ...   \n",
       "23233                 20              20             15038           16   SEP   \n",
       "23234                 13              13             12144           16   SEP   \n",
       "23235                  6               6              2567           16   SEP   \n",
       "23236                109             109            112695           16   SEP   \n",
       "23237                 14              14              4481           16   SEP   \n",
       "\n",
       "      FirstName LastName  Votes  Percentage  \n",
       "0        Barack    Obama  91696   41.567390  \n",
       "1        Barack    Obama   6354   26.575766  \n",
       "2        Barack    Obama  18329   21.566574  \n",
       "3        Barack    Obama   5873   51.252291  \n",
       "4        Barack    Obama   2200   26.218568  \n",
       "...         ...      ...    ...         ...  \n",
       "23233     Jerry    White      1    0.006650  \n",
       "23234     Jerry    White      1    0.008235  \n",
       "23235     Jerry    White      1    0.038956  \n",
       "23236     Jerry    White      5    0.004437  \n",
       "23237     Jerry    White      0    0.000000  \n",
       "\n",
       "[23238 rows x 14 columns]"
      ]
     },
     "execution_count": 14,
     "metadata": {},
     "output_type": "execute_result"
    }
   ],
   "source": [
    "election"
   ]
  },
  {
   "cell_type": "code",
   "execution_count": 15,
   "id": "ca8e104f",
   "metadata": {},
   "outputs": [
    {
     "data": {
      "text/html": [
       "<div>\n",
       "<style scoped>\n",
       "    .dataframe tbody tr th:only-of-type {\n",
       "        vertical-align: middle;\n",
       "    }\n",
       "\n",
       "    .dataframe tbody tr th {\n",
       "        vertical-align: top;\n",
       "    }\n",
       "\n",
       "    .dataframe thead th {\n",
       "        text-align: right;\n",
       "    }\n",
       "</style>\n",
       "<table border=\"1\" class=\"dataframe\">\n",
       "  <thead>\n",
       "    <tr style=\"text-align: right;\">\n",
       "      <th></th>\n",
       "      <th>County2012Id</th>\n",
       "      <th>StateCode</th>\n",
       "      <th>CountyName</th>\n",
       "      <th>CountyNumber</th>\n",
       "      <th>FipsCode</th>\n",
       "      <th>PrecintsReporting</th>\n",
       "      <th>TotalPrecincts</th>\n",
       "      <th>CountyTotalVotes</th>\n",
       "      <th>SourceOrder</th>\n",
       "      <th>Party</th>\n",
       "      <th>FirstName</th>\n",
       "      <th>LastName</th>\n",
       "      <th>Votes</th>\n",
       "      <th>Percentage</th>\n",
       "    </tr>\n",
       "  </thead>\n",
       "  <tbody>\n",
       "    <tr>\n",
       "      <th>6539</th>\n",
       "      <td>6619</td>\n",
       "      <td>TX</td>\n",
       "      <td>King</td>\n",
       "      <td>44135</td>\n",
       "      <td>48269</td>\n",
       "      <td>5</td>\n",
       "      <td>5</td>\n",
       "      <td>145</td>\n",
       "      <td>2</td>\n",
       "      <td>GOP</td>\n",
       "      <td>Mitt</td>\n",
       "      <td>Romney</td>\n",
       "      <td>139</td>\n",
       "      <td>95.862069</td>\n",
       "    </tr>\n",
       "    <tr>\n",
       "      <th>1074</th>\n",
       "      <td>1093</td>\n",
       "      <td>SD</td>\n",
       "      <td>Shannon</td>\n",
       "      <td>42056</td>\n",
       "      <td>46113</td>\n",
       "      <td>9</td>\n",
       "      <td>9</td>\n",
       "      <td>3130</td>\n",
       "      <td>1</td>\n",
       "      <td>Dem</td>\n",
       "      <td>Barack</td>\n",
       "      <td>Obama</td>\n",
       "      <td>2922</td>\n",
       "      <td>93.354633</td>\n",
       "    </tr>\n",
       "    <tr>\n",
       "      <th>8597</th>\n",
       "      <td>8693</td>\n",
       "      <td>ID</td>\n",
       "      <td>Madison</td>\n",
       "      <td>13033</td>\n",
       "      <td>16065</td>\n",
       "      <td>20</td>\n",
       "      <td>20</td>\n",
       "      <td>14412</td>\n",
       "      <td>2</td>\n",
       "      <td>GOP</td>\n",
       "      <td>Mitt</td>\n",
       "      <td>Romney</td>\n",
       "      <td>13445</td>\n",
       "      <td>93.290314</td>\n",
       "    </tr>\n",
       "    <tr>\n",
       "      <th>4931</th>\n",
       "      <td>4990</td>\n",
       "      <td>CT</td>\n",
       "      <td>Hartford</td>\n",
       "      <td>7064</td>\n",
       "      <td>9003</td>\n",
       "      <td>24</td>\n",
       "      <td>24</td>\n",
       "      <td>34037</td>\n",
       "      <td>1</td>\n",
       "      <td>Dem</td>\n",
       "      <td>Barack</td>\n",
       "      <td>Obama</td>\n",
       "      <td>31735</td>\n",
       "      <td>93.236772</td>\n",
       "    </tr>\n",
       "    <tr>\n",
       "      <th>6601</th>\n",
       "      <td>6681</td>\n",
       "      <td>TX</td>\n",
       "      <td>Roberts</td>\n",
       "      <td>44197</td>\n",
       "      <td>48393</td>\n",
       "      <td>6</td>\n",
       "      <td>6</td>\n",
       "      <td>439</td>\n",
       "      <td>2</td>\n",
       "      <td>GOP</td>\n",
       "      <td>Mitt</td>\n",
       "      <td>Romney</td>\n",
       "      <td>408</td>\n",
       "      <td>92.938497</td>\n",
       "    </tr>\n",
       "    <tr>\n",
       "      <th>...</th>\n",
       "      <td>...</td>\n",
       "      <td>...</td>\n",
       "      <td>...</td>\n",
       "      <td>...</td>\n",
       "      <td>...</td>\n",
       "      <td>...</td>\n",
       "      <td>...</td>\n",
       "      <td>...</td>\n",
       "      <td>...</td>\n",
       "      <td>...</td>\n",
       "      <td>...</td>\n",
       "      <td>...</td>\n",
       "      <td>...</td>\n",
       "      <td>...</td>\n",
       "    </tr>\n",
       "    <tr>\n",
       "      <th>8375</th>\n",
       "      <td>8468</td>\n",
       "      <td>ME</td>\n",
       "      <td>Hancock Cty Townships</td>\n",
       "      <td>20898</td>\n",
       "      <td>23009</td>\n",
       "      <td>0</td>\n",
       "      <td>1</td>\n",
       "      <td>0</td>\n",
       "      <td>2</td>\n",
       "      <td>GOP</td>\n",
       "      <td>Mitt</td>\n",
       "      <td>Romney</td>\n",
       "      <td>0</td>\n",
       "      <td>NaN</td>\n",
       "    </tr>\n",
       "    <tr>\n",
       "      <th>11852</th>\n",
       "      <td>12065</td>\n",
       "      <td>ME</td>\n",
       "      <td>Upton</td>\n",
       "      <td>20597</td>\n",
       "      <td>23017</td>\n",
       "      <td>0</td>\n",
       "      <td>1</td>\n",
       "      <td>0</td>\n",
       "      <td>3</td>\n",
       "      <td>Lib</td>\n",
       "      <td>Gary</td>\n",
       "      <td>Johnson</td>\n",
       "      <td>0</td>\n",
       "      <td>NaN</td>\n",
       "    </tr>\n",
       "    <tr>\n",
       "      <th>12886</th>\n",
       "      <td>13107</td>\n",
       "      <td>ME</td>\n",
       "      <td>Hancock Cty Townships</td>\n",
       "      <td>20898</td>\n",
       "      <td>23009</td>\n",
       "      <td>0</td>\n",
       "      <td>1</td>\n",
       "      <td>0</td>\n",
       "      <td>3</td>\n",
       "      <td>Lib</td>\n",
       "      <td>Gary</td>\n",
       "      <td>Johnson</td>\n",
       "      <td>0</td>\n",
       "      <td>NaN</td>\n",
       "    </tr>\n",
       "    <tr>\n",
       "      <th>16096</th>\n",
       "      <td>16357</td>\n",
       "      <td>ME</td>\n",
       "      <td>Upton</td>\n",
       "      <td>20597</td>\n",
       "      <td>23017</td>\n",
       "      <td>0</td>\n",
       "      <td>1</td>\n",
       "      <td>0</td>\n",
       "      <td>4</td>\n",
       "      <td>Grn</td>\n",
       "      <td>Jill</td>\n",
       "      <td>Stein</td>\n",
       "      <td>0</td>\n",
       "      <td>NaN</td>\n",
       "    </tr>\n",
       "    <tr>\n",
       "      <th>17127</th>\n",
       "      <td>17395</td>\n",
       "      <td>ME</td>\n",
       "      <td>Hancock Cty Townships</td>\n",
       "      <td>20898</td>\n",
       "      <td>23009</td>\n",
       "      <td>0</td>\n",
       "      <td>1</td>\n",
       "      <td>0</td>\n",
       "      <td>4</td>\n",
       "      <td>Grn</td>\n",
       "      <td>Jill</td>\n",
       "      <td>Stein</td>\n",
       "      <td>0</td>\n",
       "      <td>NaN</td>\n",
       "    </tr>\n",
       "  </tbody>\n",
       "</table>\n",
       "<p>23238 rows × 14 columns</p>\n",
       "</div>"
      ],
      "text/plain": [
       "       County2012Id StateCode             CountyName  CountyNumber  FipsCode  \\\n",
       "6539           6619        TX                   King         44135     48269   \n",
       "1074           1093        SD                Shannon         42056     46113   \n",
       "8597           8693        ID                Madison         13033     16065   \n",
       "4931           4990        CT               Hartford          7064      9003   \n",
       "6601           6681        TX                Roberts         44197     48393   \n",
       "...             ...       ...                    ...           ...       ...   \n",
       "8375           8468        ME  Hancock Cty Townships         20898     23009   \n",
       "11852         12065        ME                  Upton         20597     23017   \n",
       "12886         13107        ME  Hancock Cty Townships         20898     23009   \n",
       "16096         16357        ME                  Upton         20597     23017   \n",
       "17127         17395        ME  Hancock Cty Townships         20898     23009   \n",
       "\n",
       "       PrecintsReporting  TotalPrecincts  CountyTotalVotes  SourceOrder Party  \\\n",
       "6539                   5               5               145            2   GOP   \n",
       "1074                   9               9              3130            1   Dem   \n",
       "8597                  20              20             14412            2   GOP   \n",
       "4931                  24              24             34037            1   Dem   \n",
       "6601                   6               6               439            2   GOP   \n",
       "...                  ...             ...               ...          ...   ...   \n",
       "8375                   0               1                 0            2   GOP   \n",
       "11852                  0               1                 0            3   Lib   \n",
       "12886                  0               1                 0            3   Lib   \n",
       "16096                  0               1                 0            4   Grn   \n",
       "17127                  0               1                 0            4   Grn   \n",
       "\n",
       "      FirstName LastName  Votes  Percentage  \n",
       "6539       Mitt   Romney    139   95.862069  \n",
       "1074     Barack    Obama   2922   93.354633  \n",
       "8597       Mitt   Romney  13445   93.290314  \n",
       "4931     Barack    Obama  31735   93.236772  \n",
       "6601       Mitt   Romney    408   92.938497  \n",
       "...         ...      ...    ...         ...  \n",
       "8375       Mitt   Romney      0         NaN  \n",
       "11852      Gary  Johnson      0         NaN  \n",
       "12886      Gary  Johnson      0         NaN  \n",
       "16096      Jill    Stein      0         NaN  \n",
       "17127      Jill    Stein      0         NaN  \n",
       "\n",
       "[23238 rows x 14 columns]"
      ]
     },
     "execution_count": 15,
     "metadata": {},
     "output_type": "execute_result"
    }
   ],
   "source": [
    "election.sort_values(by='Percentage', ascending=False)"
   ]
  },
  {
   "cell_type": "code",
   "execution_count": 16,
   "id": "31a8681c",
   "metadata": {},
   "outputs": [
    {
     "data": {
      "text/plain": [
       "Text(0.5, 1.0, 'Random 10 County with highest votes polled ')"
      ]
     },
     "execution_count": 16,
     "metadata": {},
     "output_type": "execute_result"
    },
    {
     "data": {
      "image/png": "[encoded data removed]",
      "text/plain": [
       "<Figure size 648x432 with 1 Axes>"
      ]
     },
     "metadata": {
      "needs_background": "light"
     },
     "output_type": "display_data"
    }
   ],
   "source": [
    "plt.figure(figsize=(9,6))\n",
    "# make barplot\n",
    "sns.barplot(x='Percentage', y=\"CountyName\", data=election.head(10))\n",
    "# set labels\n",
    "plt.xlabel(\"Vote percentage polled\", size=15)\n",
    "plt.ylabel(\"CountyName\", size=15)\n",
    "plt.title(\"Random 10 County with highest votes polled \", size=18)\n"
   ]
  },
  {
   "cell_type": "markdown",
   "id": "493e8a57",
   "metadata": {},
   "source": [
    "In the graph we can see that Bullock county have more than 70% votes polled .By this we can say that our hypothesis 1 is incorrect"
   ]
  },
  {
   "cell_type": "markdown",
   "id": "09f39558",
   "metadata": {},
   "source": [
    "# Hypothesis 2"
   ]
  },
  {
   "cell_type": "markdown",
   "id": "446354b5",
   "metadata": {},
   "source": [
    "# The count of PrecintsReporting is 95% matched with the count of TotalPrecincts?"
   ]
  },
  {
   "cell_type": "code",
   "execution_count": 17,
   "id": "76559a91",
   "metadata": {},
   "outputs": [],
   "source": [
    "comparision_precincts=[election.apply(lambda x: x['TotalPrecincts'] == x['PrecintsReporting'], axis = 1)]"
   ]
  },
  {
   "cell_type": "code",
   "execution_count": 18,
   "id": "14ed241b",
   "metadata": {},
   "outputs": [],
   "source": [
    "a=pd.DataFrame(comparision_precincts).transpose()\n"
   ]
  },
  {
   "cell_type": "code",
   "execution_count": 19,
   "id": "e7653338",
   "metadata": {},
   "outputs": [
    {
     "data": {
      "text/plain": [
       "Text(0.5, 1.0, 'comparision of both the values TotalPrecincts and PrecintsReporting If values matched its true else false')"
      ]
     },
     "execution_count": 19,
     "metadata": {},
     "output_type": "execute_result"
    },
    {
     "data": {
      "image/png": "[encoded data removed]",
      "text/plain": [
       "<Figure size 432x288 with 1 Axes>"
      ]
     },
     "metadata": {
      "needs_background": "light"
     },
     "output_type": "display_data"
    }
   ],
   "source": [
    "ax=a[0].value_counts().plot(kind='bar')\n",
    "ax.set_ylabel('count')\n",
    "ax.set_xlabel('comparision of both the values  ')\n",
    "plt.title('comparision of both the values TotalPrecincts and PrecintsReporting If values matched its true else false', size=18)"
   ]
  },
  {
   "cell_type": "markdown",
   "id": "c71c1c9b",
   "metadata": {},
   "source": [
    "In the graph we can see that TotalPrecincts and PrecintsReporting matches .By this we can say that our hypothesis 2 is correct"
   ]
  },
  {
   "cell_type": "markdown",
   "id": "0adc9f3c",
   "metadata": {},
   "source": [
    "# Hypothesis 3"
   ]
  },
  {
   "cell_type": "markdown",
   "id": "f70ca499",
   "metadata": {},
   "source": [
    "# Barack Obama took 60% of the popular vote"
   ]
  },
  {
   "cell_type": "code",
   "execution_count": 20,
   "id": "4e69e02b",
   "metadata": {},
   "outputs": [],
   "source": [
    "sum_votes=election['Votes'].sum()"
   ]
  },
  {
   "cell_type": "code",
   "execution_count": 21,
   "id": "85719e6a",
   "metadata": {},
   "outputs": [],
   "source": [
    "Obama_Votes=election.loc[election['LastName'] == 'Obama','Votes'].sum()"
   ]
  },
  {
   "cell_type": "code",
   "execution_count": 35,
   "id": "05616df4",
   "metadata": {},
   "outputs": [],
   "source": [
    "other_votes=sum_votes - Obama_Votes"
   ]
  },
  {
   "cell_type": "code",
   "execution_count": 36,
   "id": "d7d6de0a",
   "metadata": {},
   "outputs": [
    {
     "data": {
      "text/plain": [
       "60862778"
      ]
     },
     "execution_count": 36,
     "metadata": {},
     "output_type": "execute_result"
    }
   ],
   "source": [
    "other_votes"
   ]
  },
  {
   "cell_type": "code",
   "execution_count": 37,
   "id": "7174f2d5",
   "metadata": {
    "scrolled": true
   },
   "outputs": [
    {
     "data": {
      "text/plain": [
       "62301929"
      ]
     },
     "execution_count": 37,
     "metadata": {},
     "output_type": "execute_result"
    }
   ],
   "source": [
    "Obama_Votes"
   ]
  },
  {
   "cell_type": "code",
   "execution_count": 54,
   "id": "a38b8bad",
   "metadata": {},
   "outputs": [
    {
     "data": {
      "image/png": "[encoded data removed]",
      "text/plain": [
       "<Figure size 1080x720 with 1 Axes>"
      ]
     },
     "metadata": {},
     "output_type": "display_data"
    }
   ],
   "source": [
    "Votes = ['Votes polled to Others', 'Votes polled to Obama']\n",
    "  \n",
    "data = [60862778,62301929]\n",
    "  \n",
    "# Creating plot\n",
    "fig = plt.figure(figsize =(15, 10))\n",
    "plt.pie(data, labels = Votes,autopct='%.0f%%')\n",
    "  \n",
    "# show plot\n",
    "plt.show()"
   ]
  },
  {
   "cell_type": "markdown",
   "id": "ba234f0e",
   "metadata": {},
   "source": [
    "The above pie chart represents the percentage of votes polled to obama. By this we can say our hypothesis 3 is Incorrect"
   ]
  },
  {
   "cell_type": "markdown",
   "id": "699bfa62",
   "metadata": {},
   "source": [
    "# Hypothesis 4"
   ]
  },
  {
   "cell_type": "markdown",
   "id": "2cc7620a",
   "metadata": {},
   "source": [
    "# Califonia has more total number of votes than Texas"
   ]
  },
  {
   "cell_type": "code",
   "execution_count": 64,
   "id": "57b7cffa",
   "metadata": {},
   "outputs": [],
   "source": [
    "califonia_Votes=election.loc[election['StateCode'] == 'CA','CountyTotalVotes'].sum()"
   ]
  },
  {
   "cell_type": "code",
   "execution_count": 65,
   "id": "49a95961",
   "metadata": {},
   "outputs": [],
   "source": [
    "Texas_Votes=election.loc[election['StateCode'] == 'TX','CountyTotalVotes'].sum()"
   ]
  },
  {
   "cell_type": "code",
   "execution_count": 66,
   "id": "1c586343",
   "metadata": {},
   "outputs": [
    {
     "data": {
      "text/plain": [
       "63231936"
      ]
     },
     "execution_count": 66,
     "metadata": {},
     "output_type": "execute_result"
    }
   ],
   "source": [
    "califonia_Votes"
   ]
  },
  {
   "cell_type": "code",
   "execution_count": 67,
   "id": "fb548bf4",
   "metadata": {},
   "outputs": [
    {
     "data": {
      "text/plain": [
       "31851196"
      ]
     },
     "execution_count": 67,
     "metadata": {},
     "output_type": "execute_result"
    }
   ],
   "source": [
    "Texas_Votes"
   ]
  },
  {
   "cell_type": "markdown",
   "id": "41d90468",
   "metadata": {},
   "source": [
    " From the above code we can find that the state Califonia have more votes when we compare with Texas. By this way we can say that Hypothesis 4 is correct"
   ]
  },
  {
   "cell_type": "code",
   "execution_count": null,
   "id": "b92c4701",
   "metadata": {},
   "outputs": [],
   "source": []
  }
 ],
 "metadata": {
  "kernelspec": {
   "display_name": "Python 3",
   "language": "python",
   "name": "python3"
  },
  "language_info": {
   "codemirror_mode": {
    "name": "ipython",
    "version": 3
   },
   "file_extension": ".py",
   "mimetype": "text/x-python",
   "name": "python",
   "nbconvert_exporter": "python",
   "pygments_lexer": "ipython3",
   "version": "3.8.8"
  }
 },
 "nbformat": 4,
 "nbformat_minor": 5
}
